{
 "cells": [
  {
   "cell_type": "markdown",
   "id": "9bcff916",
   "metadata": {},
   "source": [
    "## Building a chatbot with multiple tools using langgraph\""
   ]
  },
  {
   "cell_type": "code",
   "execution_count": 156,
   "id": "3ad9007c",
   "metadata": {},
   "outputs": [],
   "source": [
    "from langchain_community.tools import ArxivQueryRun, WikipediaQueryRun\n",
    "from langchain_community.utilities import WikipediaAPIWrapper, ArxivAPIWrapper"
   ]
  },
  {
   "cell_type": "code",
   "execution_count": 157,
   "id": "080cd6bd",
   "metadata": {},
   "outputs": [
    {
     "name": "stdout",
     "output_type": "stream",
     "text": [
      "arxiv\n"
     ]
    }
   ],
   "source": [
    "api_wrapper_arxiv=ArxivAPIWrapper(top_k_results=2,doc_content_chars_max=500)\n",
    "arxiv=ArxivQueryRun(api_wrapper=api_wrapper_arxiv)\n",
    "print(arxiv.name)"
   ]
  },
  {
   "cell_type": "code",
   "execution_count": 158,
   "id": "cd1743a5",
   "metadata": {},
   "outputs": [
    {
     "data": {
      "text/plain": [
       "\"Published: 2024-07-22\\nTitle: Attention Is All You Need But You Don't Need All Of It For Inference of Large Language Models\\nAuthors: Georgy Tyukin, Gbetondji J-S Dovonon, Jean Kaddour, Pasquale Minervini\\nSummary: The inference demand for LLMs has skyrocketed in recent months, and serving\\nmodels with low latencies remains challenging due to the quadratic input length\\ncomplexity of the attention layers. In this work, we investigate the effect of\\ndropping MLP and attention layers at inference time o\""
      ]
     },
     "execution_count": 158,
     "metadata": {},
     "output_type": "execute_result"
    }
   ],
   "source": [
    "arxiv.invoke('Attention is all you need')"
   ]
  },
  {
   "cell_type": "code",
   "execution_count": 159,
   "id": "129aca74",
   "metadata": {},
   "outputs": [
    {
     "data": {
      "text/plain": [
       "'wikipedia'"
      ]
     },
     "execution_count": 159,
     "metadata": {},
     "output_type": "execute_result"
    }
   ],
   "source": [
    "api_wrapper_wiki=WikipediaAPIWrapper(top_k_results=1,doc_content_chars_max=500)\n",
    "wiki=WikipediaQueryRun(api_wrapper=api_wrapper_wiki)\n",
    "wiki.name"
   ]
  },
  {
   "cell_type": "code",
   "execution_count": 160,
   "id": "305f5d01",
   "metadata": {},
   "outputs": [
    {
     "data": {
      "text/plain": [
       "'Page: Machine learning\\nSummary: Machine learning (ML) is a field of study in artificial intelligence concerned with the development and study of statistical algorithms that can learn from data and generalise to unseen data, and thus perform tasks without explicit instructions. Within a subdiscipline in machine learning, advances in the field of deep learning have allowed neural networks, a class of statistical algorithms, to surpass many previous machine learning approaches in performance.\\nML fi'"
      ]
     },
     "execution_count": 160,
     "metadata": {},
     "output_type": "execute_result"
    }
   ],
   "source": [
    "wiki.invoke('What is machine learning?')"
   ]
  },
  {
   "cell_type": "code",
   "execution_count": 161,
   "id": "3c416145",
   "metadata": {},
   "outputs": [],
   "source": [
    "from dotenv import load_dotenv\n",
    "load_dotenv()\n",
    "\n",
    "import os\n",
    "\n",
    "os.environ['TAVILY_API_KEY']=os.getenv('TAVILY_API_KEY')\n",
    "os.environ['GROQ_API_KEY']=os.getenv('GROQ_API_KEY')"
   ]
  },
  {
   "cell_type": "code",
   "execution_count": 162,
   "id": "eb557865",
   "metadata": {},
   "outputs": [],
   "source": [
    "from langchain_tavily import TavilySearch\n",
    "\n",
    "travily = TavilySearch(\n",
    "    max_results=5,\n",
    "    topic=\"general\",\n",
    "    # include_answer=False,\n",
    "    # include_raw_content=False,\n",
    "    # include_images=False,\n",
    "    # include_image_descriptions=False,\n",
    "    # search_depth=\"basic\",\n",
    "    # time_range=\"day\",\n",
    "    # include_domains=None,\n",
    "    # exclude_domains=None\n",
    ")"
   ]
  },
  {
   "cell_type": "code",
   "execution_count": 163,
   "id": "33b0327f",
   "metadata": {},
   "outputs": [
    {
     "data": {
      "text/plain": [
       "{'query': 'provide me the mostv recent ai news for 14 August 2025',\n",
       " 'follow_up_questions': None,\n",
       " 'answer': None,\n",
       " 'images': [],\n",
       " 'results': [{'url': 'https://dwealth.news/2025/08/ai-intelligence-weekly-top-10-8-14-25/',\n",
       "   'title': 'AI INTELLIGENCE | Weekly Top 10 (8/14/25) - Dwealth.news',\n",
       "   'content': 'Viral AI stories this week: USAi launch, Illinois AI therapy ban, GPT-5 price shake-up, and a viral Reddit engagement to an AI chatbot.',\n",
       "   'score': 0.83452857,\n",
       "   'raw_content': None},\n",
       "  {'url': 'https://www.artificialintelligence-news.com/',\n",
       "   'title': 'AI News | Latest AI News, Analysis & Events',\n",
       "   'content': 'DeepSeek reverts to Nvidia for R2 model after Huawei AI chip fails · Artificial Intelligence. August 14, 2025 ; Anthropic details its AI safety strategy.',\n",
       "   'score': 0.8184036,\n",
       "   'raw_content': None},\n",
       "  {'url': 'https://www.theguardian.com/technology/artificialintelligenceai',\n",
       "   'title': 'Artificial intelligence (AI) | The Guardian',\n",
       "   'content': '14 August 2025 · Researchers asked AI to show a typical Australian dad: he was white and had an iguana · Trump cuts to science research threaten his',\n",
       "   'score': 0.8088086,\n",
       "   'raw_content': None},\n",
       "  {'url': 'https://www.youtube.com/watch?v=L0bc1_TPVm4',\n",
       "   'title': 'Thu Aug 14, 2025 - Humanity Survival Based on \"Motherly\" AI & GPT ...',\n",
       "   'content': 'AI News: Thu Aug 14, 2025 - Humanity Survival Based on \"Motherly\" AI & GPT-5 Reasoning \"Juice\". 29 views · 10 hours ago ...more',\n",
       "   'score': 0.7811474,\n",
       "   'raw_content': None},\n",
       "  {'url': 'https://www.bloomberg.com/news/videos/2025-08-14/bloomberg-tech-8-14-2025-video',\n",
       "   'title': 'Apple AI Plan Hinges on Robots, Cisco CEO Talks Tariffs - Bloomberg',\n",
       "   'content': 'Apple AI Plan Hinges on Robots, Cisco CEO Talks Tariffs | Bloomberg Tech 8/14/2025. Bloomberg Technology · TV Shows. August 14th, 2025, 1:23 PM',\n",
       "   'score': 0.72489023,\n",
       "   'raw_content': None}],\n",
       " 'response_time': 1.53,\n",
       " 'request_id': '54908e0b-3cce-4a58-94fa-7afe8df4592f'}"
      ]
     },
     "execution_count": 163,
     "metadata": {},
     "output_type": "execute_result"
    }
   ],
   "source": [
    "travily.invoke('provide me the mostv recent ai news for 14 August 2025')"
   ]
  },
  {
   "cell_type": "code",
   "execution_count": 164,
   "id": "3b4c59a6",
   "metadata": {},
   "outputs": [],
   "source": [
    "### Combine all tools in a list\n",
    "\n",
    "tools=[arxiv,wiki,travily]\n",
    "\n",
    "### Initialize llm model\n",
    "\n",
    "from langchain_groq import ChatGroq\n",
    "\n",
    "llm=ChatGroq(model='qwen/qwen3-32b')\n",
    "\n",
    "llm_with_tools=llm.bind_tools(tools)"
   ]
  },
  {
   "cell_type": "code",
   "execution_count": 165,
   "id": "50fafcb8",
   "metadata": {},
   "outputs": [
    {
     "data": {
      "text/plain": [
       "AIMessage(content='', additional_kwargs={'reasoning_content': 'Okay, the user is asking for recent AI news. I need to figure out which tool to use here. The available tools are arxiv, wikipedia, and tavily_search. Arxiv is for academic papers, which might not be what they\\'re looking for. Wikipedia is good for general knowledge but might not have the latest news. Tavily_search seems appropriate here because it\\'s optimized for current events and can provide up-to-date results.\\n\\nLooking at the parameters for tavily_search, the user wants recent news, so I should set the time_range to \"week\" to get the latest developments. The topic should be \"general\" unless specified otherwise. The query itself would be \"recent AI news\". I don\\'t need to exclude or include specific domains unless the user mentioned them, which they didn\\'t. Also, no need for images or favicons unless specified. Let me make sure to set the time_range correctly and keep the search_depth as \"advanced\" to get comprehensive results. Alright, that should cover it.\\n', 'tool_calls': [{'id': 'sgv2jxq2q', 'function': {'arguments': '{\"query\":\"recent AI news\",\"search_depth\":\"advanced\",\"time_range\":\"week\",\"topic\":\"general\"}', 'name': 'tavily_search'}, 'type': 'function'}]}, response_metadata={'token_usage': {'completion_tokens': 254, 'prompt_tokens': 2037, 'total_tokens': 2291, 'completion_time': 0.687543906, 'prompt_time': 0.099192109, 'queue_time': 0.065421053, 'total_time': 0.786736015}, 'model_name': 'qwen/qwen3-32b', 'system_fingerprint': 'fp_5cf921caa2', 'service_tier': 'on_demand', 'finish_reason': 'tool_calls', 'logprobs': None}, id='run--e8d2b388-25ba-4453-8b12-a94a6d864af8-0', tool_calls=[{'name': 'tavily_search', 'args': {'query': 'recent AI news', 'search_depth': 'advanced', 'time_range': 'week', 'topic': 'general'}, 'id': 'sgv2jxq2q', 'type': 'tool_call'}], usage_metadata={'input_tokens': 2037, 'output_tokens': 254, 'total_tokens': 2291})"
      ]
     },
     "execution_count": 165,
     "metadata": {},
     "output_type": "execute_result"
    }
   ],
   "source": [
    "from langchain_core.messages import HumanMessage,AIMessage\n",
    "\n",
    "llm_with_tools.invoke([HumanMessage(content=f\"What is the recent AI News\")])"
   ]
  },
  {
   "cell_type": "code",
   "execution_count": 166,
   "id": "7f72bc6d",
   "metadata": {},
   "outputs": [],
   "source": [
    "## State Schema\n",
    "from typing_extensions import TypedDict\n",
    "from langchain_core.messages import AnyMessage\n",
    "from typing import Annotated\n",
    "from langgraph.graph.message import add_messages\n",
    "\n",
    "class State(TypedDict):\n",
    "    messages:Annotated[list[AnyMessage],add_messages]"
   ]
  },
  {
   "cell_type": "code",
   "execution_count": 167,
   "id": "ceb45178",
   "metadata": {},
   "outputs": [
    {
     "data": {
      "image/png": "[encoded data removed]",
      "text/plain": [
       "<IPython.core.display.Image object>"
      ]
     },
     "metadata": {},
     "output_type": "display_data"
    }
   ],
   "source": [
    "## Entire chatbot with Langgraph\n",
    "\n",
    "from IPython.display import Image, display\n",
    "from langgraph.graph import StateGraph, START,END\n",
    "from langgraph.prebuilt import ToolNode\n",
    "from langgraph.prebuilt import tools_condition\n",
    "\n",
    "## Node defination\n",
    "def tool_calling_llm(state:State):\n",
    "    return {\"messages\":[llm_with_tools.invoke(state[\"messages\"])]}\n",
    "\n",
    "# build graph\n",
    "builder=StateGraph(State)\n",
    "builder.add_node('tool_calling_llm',tool_calling_llm)\n",
    "builder.add_node('tools',ToolNode(tools))\n",
    "\n",
    "builder.add_edge(START,'tool_calling_llm')\n",
    "builder.add_conditional_edges('tool_calling_llm',tools_condition)\n",
    "\n",
    "builder.add_edge('tools',END)\n",
    "\n",
    "graph=builder.compile()\n",
    "\n",
    "display(Image(graph.get_graph().draw_mermaid_png()))"
   ]
  },
  {
   "cell_type": "code",
   "execution_count": 168,
   "id": "92f8ad60",
   "metadata": {},
   "outputs": [
    {
     "name": "stdout",
     "output_type": "stream",
     "text": [
      "================================\u001b[1m Human Message \u001b[0m=================================\n",
      "\n",
      "What is attention is all you need?\n",
      "==================================\u001b[1m Ai Message \u001b[0m==================================\n",
      "Tool Calls:\n",
      "  arxiv (pytds6rae)\n",
      " Call ID: pytds6rae\n",
      "  Args:\n",
      "    query: Attention Is All You Need\n",
      "=================================\u001b[1m Tool Message \u001b[0m=================================\n",
      "Name: arxiv\n",
      "\n",
      "Published: 2024-07-22\n",
      "Title: Attention Is All You Need But You Don't Need All Of It For Inference of Large Language Models\n",
      "Authors: Georgy Tyukin, Gbetondji J-S Dovonon, Jean Kaddour, Pasquale Minervini\n",
      "Summary: The inference demand for LLMs has skyrocketed in recent months, and serving\n",
      "models with low latencies remains challenging due to the quadratic input length\n",
      "complexity of the attention layers. In this work, we investigate the effect of\n",
      "dropping MLP and attention layers at inference time o\n"
     ]
    }
   ],
   "source": [
    "\n",
    "messages=graph.invoke({\"messages\":\"What is attention is all you need?\"})\n",
    "for message in messages['messages']:\n",
    "    message.pretty_print()"
   ]
  },
  {
   "cell_type": "markdown",
   "id": "cba2dfab",
   "metadata": {},
   "source": [
    "## React Agent Architecture in LangGraph\n",
    "\n",
    "1. act = The model calls the specific tools\n",
    "2. observe = Passes the output back to the model\n",
    "3. reason = Based on the output response of the tool, the model will decide what to do in the next step --> smart agents"
   ]
  },
  {
   "cell_type": "code",
   "execution_count": 169,
   "id": "d1af8311",
   "metadata": {},
   "outputs": [],
   "source": [
    "os.environ['LANGCHAIN_API_KEY']=os.getenv('LANGCHAIN_API_KEY')\n",
    "os.environ['LANGCHAIN_TRACING_V2']='true'\n",
    "os.environ['LANGCHAIN_PROJECT']=os.getenv('LANGCHAIN_PROJECT')"
   ]
  },
  {
   "cell_type": "code",
   "execution_count": 170,
   "id": "ef4d2ec8",
   "metadata": {},
   "outputs": [],
   "source": [
    "## Custom functions --> tools\n",
    "\n",
    "def multiply(a: int,b: int)->int:\n",
    "    \"\"\"\n",
    "    Multiply a and b.\n",
    "\n",
    "    Args:\n",
    "        a: first int\n",
    "        b: second int\n",
    "    \"\"\"\n",
    "    return a * b\n",
    "\n",
    "def add(a: int,b: int)->int:\n",
    "    \"\"\"\n",
    "    Add a and b.\n",
    "\n",
    "    Args:\n",
    "        a: first int\n",
    "        b: second int\n",
    "    \"\"\"\n",
    "    return a + b\n",
    "\n",
    "def subtract(a: int,b: int)->int:\n",
    "    \"\"\"\n",
    "    Subtract a and b.\n",
    "\n",
    "    Args:\n",
    "        a: first int\n",
    "        b: second int\n",
    "    \"\"\"\n",
    "    return a - b\n",
    "\n",
    "def divide(a: int,b: int)->int:\n",
    "    \"\"\"\n",
    "    Divide a and b.\n",
    "\n",
    "    Args:\n",
    "        a: first int\n",
    "        b: second int\n",
    "    \"\"\"\n",
    "    return a // b"
   ]
  },
  {
   "cell_type": "code",
   "execution_count": 171,
   "id": "e840d201",
   "metadata": {},
   "outputs": [],
   "source": [
    "## Travily search tool\n",
    "\n",
    "from langchain_community.tools.tavily_search import TavilySearchResults\n",
    "\n",
    "tavily = TavilySearchResults()"
   ]
  },
  {
   "cell_type": "code",
   "execution_count": 172,
   "id": "f128d8c7",
   "metadata": {},
   "outputs": [
    {
     "data": {
      "text/plain": [
       "[{'title': \"Independence Day LIVE: 'Super Six' poll promises in ...\",\n",
       "  'url': 'https://www.thehindu.com/news/national/india-indepdence-day-2025-live-updates-on-august-15-pm-modi-speech/article69935688.ece',\n",
       "  'content': '## Prime Minister Modi announced the launch of a ₹1 lakh crore scheme for the youth - the PM Viksit Bharat Rozgar Yojana. Under this scheme, those getting their first job in the private sector will get ₹15,000 from the government.\\n\\nUpdated  - August 15, 2025 11:37 am IST\\n\\nThe view of historical district collectorate which was illuminated for the 79th Independence Day Celebrations in Vijayawada. Many structures were illuminated and decked for the event. [...] ### 78 Years of Freedom: A collection of stories commemorating the progress of nation\\n\\nIndependence Day 2025: All you need to know about 78 years of freedom- India’s 79th Independence Day.\\n\\nPrime Minister Narendra Modi wished the nation on its 79th Independence Day and urged everyone to work even harder to build a developed  Bharat.\\n\\nPublished - August 15, 2025\\n\\n### Related Topics\\n\\nIndependence Day\\n/\\nLive news\\n/\\nPrime Minister Narendra Modi\\n\\n### Top News Today [...] Prime Minister Modi leads Independence Day celebrations at Red Fort with patriotic performances and Operation Sindoor highlights.\\n\\nFrom Jaipur blue pottery to terracotta relief work of West Bengal, search giant Google came up with a striking doodle that draws inspiration from the country’s traditional tile designs.\\n\\nThe digital artwork ingeniously embeds themes emphasising India’s achievements in space, cricket, chess, and cinema.\\n\\nScreenshot 2025-08-15 070614.png',\n",
       "  'score': 0.8467682},\n",
       " {'title': \"PM's address to the Nation - LIVE from the Red Fort - YouTube\",\n",
       "  'url': 'https://www.youtube.com/watch?v=4g-vuUoZvUM',\n",
       "  'content': 'On 15 August 2025 , India celebrates its 79th Independence Day. We at Doordarshan, extend our warm regards to all Indians – all over the globe.',\n",
       "  'score': 0.82082915},\n",
       " {'title': 'Independence Day 2025: Is it 78th or 79th I-Day this year? Check ...',\n",
       "  'url': 'https://www.hindustantimes.com/lifestyle/festivals/independence-day-2025-is-it-78th-79th-independence-day-this-year-know-theme-august-15-2025-significance-celebration-101755068612976.html',\n",
       "  'content': 'Independence Day 2025: India marks its Independence Day, or Swatantrata Diwas, every year on August 15. In 2025, it falls on a Friday. The day commemorates India\\'s freedom from over 200 years of British colonial rule on August 15, 1947.\\n\\nSecurity personnel stand guard at the Red Fort before commemorations begin for India\\'s Independence day, in New Delhi, India, Friday, Aug. 15, 2025.(AP)\") [...] Search\\nHindustan Times News\\nIndia Flag\\nIndia Flag\\nUS Flag\\nSign In\\nMy Account\\ncrown-icon\\n\\nSubscribe Now! Get features like\\n\\nad-free-icon\\npremium-icon-1\\nquick-read-icon-1\\nepaper-icon-1\\nsub-popup-img\\nCricket in L1\\nHT100 in L1\\n\\n# Independence Day 2025: Is it 78th or 79th I-Day this year? Check Independence Day 2025 theme, August 15 celebrations\\n\\n## Independence Day 2025: In 2025, will India is celebrating its 79th or 78th Independence Day on August 15 to mark freedom from British rule in 1947? [...] The official Independence Day programme begins with the presentation of a Guard of Honour by the Armed Forces and the Delhi Police to the Prime Minister. It is followed by the unfurling of the tricolour, accompanied by the National Anthem and the 21-gun salute. Helicopters of the Indian Air Force will shower flower petals over Red Fort. Prime Minister Narendra Modi also delivers his Independence Day address.',\n",
       "  'score': 0.7823471},\n",
       " {'title': 'Independence Day 2025 LIVE updates: PM Modi brings big scheme ...',\n",
       "  'url': 'https://www.hindustantimes.com/india-news/independence-day-2025-live-updates-pm-narendra-modi-iday-speech-red-fort-15-august-flag-hoisting-operation-sindoor-101755185777290.html',\n",
       "  'content': '## Independence Day 2025 LIVE updates: PM Modi addressed the nation on Independence Day from Red Fort. He heaped praise on the armed forces for Operation Sindoor, spoke about ‘aatmanirbharta’, asserting it was not limited to rupee and import/export, and also spoke about the ‘Viksit Bharat’ vision.\\n\\nPrime Minister Narendra Modi addresses the nation from the Red Fort on the occasion of the 79th Independence Day. [...] ## Independence Day 2025 LIVE updates: Pan-India band performances to be conducted in 140 locations by bands of Armed Forces\\n\\nPan-India performances will be conducted by bands in 140 prominent locations to promote patriotic fervour among the citizens and to celebrate the success of Operation Sindoor, PTI reported.\\n\\nThe performances will be conducted by the bands of the Army, Navy, Air Force, Indian Coast Guard, NCC, CRPF, ITBP, CISF, SSB, BSF, IDS, RPF and Assam Rifles. [...] ## Independence Day 2025 LIVE updates: Heightened security checks in Delhi, Mumbai ahead of celebrations\\n\\nPolice checked vehicles on the eve of Independence Day amid heightened security in both Delhi and Mumbai, visuals showed on Thursday. News agency ANI shared clips from Connaught Place in Delhi and Dharavi T Junction in Mumbai.\\n\\n## Independence Day 2025 LIVE updates: President Murmu approves Tatrakshak Medal for five Indian Coast Guard personnel',\n",
       "  'score': 0.76972175},\n",
       " {'title': \"Independence Day 2025 Live Updates: America extends ' ...\",\n",
       "  'url': 'https://timesofindia.indiatimes.com/india/79th-independence-day-2025-celebrations-live-update-15-august-red-fort-delhi-pm-modi-national-flag-hoisting/liveblog/123313771.cms',\n",
       "  'content': 'The India Meteorological Department has forecast a cloudy sky with a chance of light rain in Delhi on August 15. Temperatures are expected to range between 23°C and 33°C. No weather warnings have been issued, and the overcast conditions may offer relief from recent humidity.\\n\\nIndependence Day 2025 Live Updates: America extends \\'warm wishes\\'; calls India-US ties \\'consequential and far-reaching\\'\\n\\n## Top Stories Right Now\\n\\nlogo [...] ## TOI\\n\\n# Independence Day 2025 Live Updates: America extends \\'warm wishes\\'; calls India-US ties \\'consequential and far-reaching\\'\\n\\nIndependence Day 2025 Live: America extends \\'warm wishes\\'; calls India-US ties \\'consequential and far-reaching\\'\\n\\nThe United States on Friday extended congratulations to India on its 79th Independence Day and said that the \"historic ties\" between India and the US are \"consequential and far-reaching.\"\\n\\nRead full story [...] Independence Day 2025 Live: \\'India is about to launch National Deep Water Exploration Mission,\\' says PM Modi\\n\\n\"We are now also heading towards \\'Samudra Manthan\\'. Taking this forward, we want to work in Mission Mode to look for the oil and gas reserves in the sea. So, India is about to launch National Deep Water Exploration Mission,\" says PM Modi.\\n\\nIndependence Day 2025 Live: India is actively working on the Gaganyaan mission and is also planning its own space station, says PM Modi',\n",
       "  'score': 0.7578844}]"
      ]
     },
     "execution_count": 172,
     "metadata": {},
     "output_type": "execute_result"
    }
   ],
   "source": [
    "tavily.invoke(\"Provide me the latest news on Independence day today -  15'th Aug, 2025\")"
   ]
  },
  {
   "cell_type": "code",
   "execution_count": 173,
   "id": "28e232a3",
   "metadata": {},
   "outputs": [],
   "source": [
    "tools=[tavily,arxiv,wiki,add,multiply,subtract,divide]\n"
   ]
  },
  {
   "cell_type": "code",
   "execution_count": 174,
   "id": "42054944",
   "metadata": {},
   "outputs": [],
   "source": [
    "llm_with_tools=llm.bind_tools(tools)"
   ]
  },
  {
   "cell_type": "code",
   "execution_count": 175,
   "id": "18eda8a1",
   "metadata": {},
   "outputs": [
    {
     "data": {
      "text/plain": [
       "[{'name': 'tavily_search_results_json',\n",
       "  'args': {'query': 'Independence Day 15 August 2025 latest news'},\n",
       "  'id': 'f6wz2zypp',\n",
       "  'type': 'tool_call'},\n",
       " {'name': 'add',\n",
       "  'args': {'a': 2, 'b': 2},\n",
       "  'id': 'h8vb5jg22',\n",
       "  'type': 'tool_call'}]"
      ]
     },
     "execution_count": 175,
     "metadata": {},
     "output_type": "execute_result"
    }
   ],
   "source": [
    "from pprint import pprint\n",
    "\n",
    "from langchain_core.messages import AIMessage,HumanMessage\n",
    "\n",
    "llm_with_tools.invoke([HumanMessage(content=f\"Provide me the latest news on Independence day today -  15'th Aug, 2025. Also after that give me the result of 2 plus 2 multiply by 6 divided by 3. subtract 5 from it\")]).tool_calls\n"
   ]
  },
  {
   "cell_type": "code",
   "execution_count": 176,
   "id": "855d60bb",
   "metadata": {},
   "outputs": [],
   "source": [
    "from typing_extensions import TypedDict\n",
    "from langchain_core.messages import AnyMessage\n",
    "from langgraph.graph.message import add_messages\n",
    "from typing import Annotated\n",
    "\n",
    "class State(TypedDict):\n",
    "    messages:Annotated[list[AnyMessage],add_messages]"
   ]
  },
  {
   "cell_type": "code",
   "execution_count": 177,
   "id": "e33f7b35",
   "metadata": {},
   "outputs": [],
   "source": [
    "## chatbot node functionality\n",
    "\n",
    "def llm_tool(state:State):\n",
    "    return {\"messages\":[llm_with_tools.invoke(state[\"messages\"])]}\n",
    "\n"
   ]
  },
  {
   "cell_type": "code",
   "execution_count": 178,
   "id": "787b3407",
   "metadata": {},
   "outputs": [
    {
     "data": {
      "image/png": "[encoded data removed]",
      "text/plain": [
       "<IPython.core.display.Image object>"
      ]
     },
     "metadata": {},
     "output_type": "display_data"
    }
   ],
   "source": [
    "from IPython.display import Image,display\n",
    "from langgraph.graph import StateGraph, START, END\n",
    "\n",
    "builder=StateGraph(State)\n",
    "\n",
    "builder.add_node(\"tool_calling_llm\",tool_calling_llm)\n",
    "builder.add_node(\"tools\",ToolNode(tools))\n",
    "\n",
    "builder.add_edge(START,'tool_calling_llm')\n",
    "builder.add_conditional_edges('tool_calling_llm',tools_condition)\n",
    "builder.add_edge('tools','tool_calling_llm')\n",
    "\n",
    "\n",
    "graph=builder.compile()\n",
    "display(Image(graph.get_graph().draw_mermaid_png()))"
   ]
  },
  {
   "cell_type": "code",
   "execution_count": 179,
   "id": "916d0a6b",
   "metadata": {},
   "outputs": [
    {
     "name": "stdout",
     "output_type": "stream",
     "text": [
      "================================\u001b[1m Human Message \u001b[0m=================================\n",
      "\n",
      "Provide me the latest news on Independence day today -  15'th Aug, 2025. Also after that give me the result of 2 plus 2 multiply by 6 divided by 3. subtract 5 from it\n",
      "==================================\u001b[1m Ai Message \u001b[0m==================================\n",
      "Tool Calls:\n",
      "  tavily_search_results_json (2rpnnqdct)\n",
      " Call ID: 2rpnnqdct\n",
      "  Args:\n",
      "    query: latest news on Independence day 15th Aug 2025\n",
      "  add (atexb3hx8)\n",
      " Call ID: atexb3hx8\n",
      "  Args:\n",
      "    a: 2\n",
      "    b: 2\n",
      "=================================\u001b[1m Tool Message \u001b[0m=================================\n",
      "Name: tavily_search_results_json\n",
      "\n",
      "[{\"title\": \"Independence Day 2025 Live Updates: Today's wishes, ...\", \"url\": \"https://www.indiatvnews.com/lifestyle/events/independence-day-2025-live-updates-2025-08-14-1003531\", \"content\": \"India celebrates its 79th Independence Day today, August 15, 2025, with pride and patriotic fervour. The day marks the nation’s historic freedom from colonial rule and honours the sacrifices of countless freedom fighters.\\n\\nFrom the iconic flag-hoisting ceremony at Delhi’s Red Fort to celebrations in schools, offices, and communities, the spirit of unity fills the air. [...] This Independence Day, free your mind from stress with a 15-minute mindfulness ritual\\n\\nThis Independence Day, free your mind from stress with a 15-minute mindfulness ritual\\n\\nIndependence Day 2025 Live Updates: 'May this day inspire us to build Viksit Bharat,' says PM Modi\\n\\nIndependence Day 2025 Live Updates: 'May this day inspire us to build Viksit Bharat,' says PM Modi\\n\\nIndependence Day good morning wishes, quotes, images, and WhatsApp status to share on 15 August 2025 [...] Tip: Pair these quotes with tricolour images or flag emojis to make your posts more engaging.\\n\\n### India gears up for Independence Day 2025 celebrations tomorrow\\n\\nIndia will mark its 79th Independence Day tomorrow, August 15, 2025, commemorating the nation’s hard-fought freedom from colonial rule. Across the country, preparations are in full swing, from flag-hoisting arrangements at schools and offices to cultural programmes, parades, and community events.\", \"score\": 0.82048416}, {\"title\": \"India's 79th Independence Day 2025 Speech, Quotes LIVE\", \"url\": \"https://indianexpress.com/article/india/79th-independence-day-2025-speech-flag-hoisting-quotes-live-updates-pm-narendra-modi-president-droupadi-murmu-speech-10188549/\", \"content\": \"President Droupadi Murmu addressed nation: As India celebrates its 79th Independence Day on Friday (15 August 2025), President Droupadi Murmu, in her eve-of-Independence address, paid tribute to freedom fighters and lauded the nation’s democratic ethos. She highlighted India’s economic resilience, noting the 6.5 per cent GDP growth, infrastructure expansion, and key initiatives like Make-in-India and Atmanirbhar Bharat. Calling for a collective resolve to make India a developed nation by 2047, [...] Govt is launching today, August 15, Rs 1 lakh crore Pradhan Mantri Viksit Bharat Rojgar Yojana, under which the government will provide Rs 15,000 to youths getting jobs in private companies. It is expected to provide jobs to about 3.5 crore youth, says PM Modi [...] India’s 79th Independence Day 2025 Live Updates: Prime Minister Narendra Modi addressed the nation from Red Fort after hoisting the national flag on the occasion of Independence Day. During his speech, PM Modi spoke about India’s success during Operation Sindoor, farmers’ welfare and launched multiple schemes. One key announcement was the new GST reforms, set to kick in by Diwali and aimed at lowering the prices of daily-use commodities across the country. PM Modi also spoke about Mission\", \"score\": 0.79637206}, {\"title\": \"Independence Day 2025 Live Updates: America extends ' ...\", \"url\": \"https://timesofindia.indiatimes.com/india/79th-independence-day-2025-celebrations-live-update-15-august-red-fort-delhi-pm-modi-national-flag-hoisting/liveblog/123313771.cms\", \"content\": \"The India Meteorological Department has forecast a cloudy sky with a chance of light rain in Delhi on August 15. Temperatures are expected to range between 23°C and 33°C. No weather warnings have been issued, and the overcast conditions may offer relief from recent humidity.\\n\\nIndependence Day 2025 Live Updates: America extends 'warm wishes'; calls India-US ties 'consequential and far-reaching'\\n\\n## Top Stories Right Now\\n\\nlogo [...] ## TOI\\n\\n# Independence Day 2025 Live Updates: America extends 'warm wishes'; calls India-US ties 'consequential and far-reaching'\\n\\nIndependence Day 2025 Live: America extends 'warm wishes'; calls India-US ties 'consequential and far-reaching'\\n\\nThe United States on Friday extended congratulations to India on its 79th Independence Day and said that the \\\"historic ties\\\" between India and the US are \\\"consequential and far-reaching.\\\"\\n\\nRead full story [...] Independence Day 2025 Live: 'India is about to launch National Deep Water Exploration Mission,' says PM Modi\\n\\n\\\"We are now also heading towards 'Samudra Manthan'. Taking this forward, we want to work in Mission Mode to look for the oil and gas reserves in the sea. So, India is about to launch National Deep Water Exploration Mission,\\\" says PM Modi.\\n\\nIndependence Day 2025 Live: India is actively working on the Gaganyaan mission and is also planning its own space station, says PM Modi\", \"score\": 0.7823471}, {\"title\": \"Independence Day 2025: Is it 78th or 79th I-Day this year? Check ...\", \"url\": \"https://www.hindustantimes.com/lifestyle/festivals/independence-day-2025-is-it-78th-79th-independence-day-this-year-know-theme-august-15-2025-significance-celebration-101755068612976.html\", \"content\": \"Independence Day 2025: India marks its Independence Day, or Swatantrata Diwas, every year on August 15. In 2025, it falls on a Friday. The day commemorates India's freedom from over 200 years of British colonial rule on August 15, 1947.\\n\\nSecurity personnel stand guard at the Red Fort before commemorations begin for India's Independence day, in New Delhi, India, Friday, Aug. 15, 2025.(AP)\\\") [...] Search\\nHindustan Times News\\nIndia Flag\\nIndia Flag\\nUS Flag\\nSign In\\nMy Account\\ncrown-icon\\n\\nSubscribe Now! Get features like\\n\\nad-free-icon\\npremium-icon-1\\nquick-read-icon-1\\nepaper-icon-1\\nsub-popup-img\\nCricket in L1\\nHT100 in L1\\n\\n# Independence Day 2025: Is it 78th or 79th I-Day this year? Check Independence Day 2025 theme, August 15 celebrations\\n\\n## Independence Day 2025: In 2025, will India is celebrating its 79th or 78th Independence Day on August 15 to mark freedom from British rule in 1947? [...] The official Independence Day programme begins with the presentation of a Guard of Honour by the Armed Forces and the Delhi Police to the Prime Minister. It is followed by the unfurling of the tricolour, accompanied by the National Anthem and the 21-gun salute. Helicopters of the Indian Air Force will shower flower petals over Red Fort. Prime Minister Narendra Modi also delivers his Independence Day address.\", \"score\": 0.75421005}, {\"title\": \"India marks 79 years of freedom with GST reform boost and ...\", \"url\": \"https://m.economictimes.com/news/newsblogs/independence-day-2025-celebration-live-updates-pm-narendra-modi-speech-15th-august-flag-hoisting-updates/liveblog/123314566.cms\", \"content\": \"### India Independence Day Celebration Live: We are forming a task force for next-generation reforms, says PM Modi\\n\\n### Independence Day 2025: PM Modi hails Group Captain Shukla’s return from space, urges youth to join India’s mission of transformation\\n\\n### India Independence Day Celebration Live: Time to move ahead and meet our goals; if you need any change in government policies, do let me know, says PM Modi; exhorts youth on I-Day [...] ### In the last 11 years, entrepreneurship has flourished, lakhs of startups are in tier-2, tier-3 cities helping to boost our economy; Mudra Yojana has helped crores of youth, women with Mudra loans.\\n\\n- PM Modi\\n\\n### India Independence Day Celebration Live: PM Modi announces Rs 1 lakh crore scheme for youth in Independence Day 2025 Speech\\n\\n### India Independence Day Celebration Live: Next generation GST reforms to be introduced, says PM Modi [...] ### Delhi: Union Minister H.D. Kumaraswamy hoisted the Tricolour at his official residence\\n\\n### People belonging to all religions, languages, cultures fought, won Independence: TN CM Stalin in his I-Day address\\n\\n### Patna: Bihar CM Nitish Kumar hoisted the Tricolour on the 79th Independence Day\\n\\n### Independence Day 2025: From slashing GST to 'Sudarshan Chakra' defence system; here are highlights from PM Modi's speech\", \"score\": 0.6260562}]\n",
      "=================================\u001b[1m Tool Message \u001b[0m=================================\n",
      "Name: add\n",
      "\n",
      "4\n",
      "==================================\u001b[1m Ai Message \u001b[0m==================================\n",
      "\n",
      "**Latest News on Independence Day 2025 (15th August 2025):**\n",
      "- India celebrated its **79th Independence Day** with flag-hoisting ceremonies, cultural programs, and speeches by leaders.\n",
      "- **PM Modi** announced the **Pradhan Mantri Viksit Bharat Rojgar Yojana** (Rs 1 lakh crore scheme) to provide jobs to 3.5 crore youth.\n",
      "- New **GST reforms** were pledged to lower daily-use commodity prices by Diwali 2025.\n",
      "- The **National Deep Water Exploration Mission** was highlighted to explore oil and gas reserves.\n",
      "- The US extended warm wishes, calling India-US ties \"consequential and far-reaching.\"\n",
      "- The **Gaganyaan mission** and plans for a **space station** were emphasized in PM Modi's address.\n",
      "\n",
      "---\n",
      "\n",
      "**Math Problem Solution:**  \n",
      "Calculate:  \n",
      "**2 + 2 × 6 ÷ 3 − 5**  \n",
      "\n",
      "Step-by-step:  \n",
      "1. **Multiplication/Division (left to right):**  \n",
      "   $2 × 6 = 12$ → $12 ÷ 3 = 4$  \n",
      "2. **Addition/Subtraction:**  \n",
      "   $2 + 4 − 5 = 1$  \n",
      "\n",
      "**Final Result:** **1**  \n",
      "\n",
      "*Note: The calculation follows the order of operations (PEMDAS/BODMAS).*\n"
     ]
    }
   ],
   "source": [
    "messages=graph.invoke({\"messages\":HumanMessage(content=f\"Provide me the latest news on Independence day today -  15'th Aug, 2025. Also after that give me the result of 2 plus 2 multiply by 6 divided by 3. subtract 5 from it\")}) # type: ignore\n",
    "for message in messages['messages']:\n",
    "    message.pretty_print()"
   ]
  },
  {
   "cell_type": "markdown",
   "id": "4707b92d",
   "metadata": {},
   "source": [
    "## Agent with memory in LangGraph"
   ]
  },
  {
   "cell_type": "code",
   "execution_count": null,
   "id": "71e5218c",
   "metadata": {},
   "outputs": [
    {
     "data": {
      "image/png": "[encoded data removed]",
      "text/plain": [
       "<IPython.core.display.Image object>"
      ]
     },
     "metadata": {},
     "output_type": "display_data"
    }
   ],
   "source": [
    "from langgraph.checkpoint.memory import MemorySaver\n",
    "memory=MemorySaver()\n",
    "graph_with_memory=builder.compile(checkpointer=memory) ## saved in memory\n",
    "\n",
    "display(Image(graph.get_graph().draw_mermaid_png()))"
   ]
  },
  {
   "cell_type": "code",
   "execution_count": 181,
   "id": "1e20aed5",
   "metadata": {},
   "outputs": [
    {
     "name": "stdout",
     "output_type": "stream",
     "text": [
      "================================\u001b[1m Human Message \u001b[0m=================================\n",
      "\n",
      "Provide me the latest news on Independence day today -  15'th Aug, 2025. Also after that give me the result of 2 plus 2 multiply by 6 divided by 3. subtract 5 from it\n",
      "==================================\u001b[1m Ai Message \u001b[0m==================================\n",
      "Tool Calls:\n",
      "  tavily_search_results_json (xfabhcsek)\n",
      " Call ID: xfabhcsek\n",
      "  Args:\n",
      "    query: latest news on Independence day 15th Aug 2025\n",
      "  add (qzd5h5e9d)\n",
      " Call ID: qzd5h5e9d\n",
      "  Args:\n",
      "    a: 2\n",
      "    b: 2\n",
      "=================================\u001b[1m Tool Message \u001b[0m=================================\n",
      "Name: tavily_search_results_json\n",
      "\n",
      "[{\"title\": \"79th Independence Day 2025: Top 10 Key Points You Need to ...\", \"url\": \"https://www.jagranjosh.com/general-knowledge/79th-independence-day-2025-top-key-points-from-pm-modis-15-august-speech-1820001579-1\", \"content\": \"## India’s 79th Independence Day on 15 August 2025 celebrated freedom, unity, and progress. From the Red Fort, PM Modi honoured leaders like Dr. Shyama Prasad Mukherjee, lauded Operation Sindoor, highlighted technological, energy, and space achievements, and emphasized self-reliance, inclusive growth, and national security, inspiring citizens toward building a Viksit Bharat. [...] India’s 79th Independence Day, celebrated on 15 August 2025, marked another historic moment in the nation’s journey of freedom, unity, and progress. From the iconic Red Fort in New Delhi, Prime Minister Narendra Modi addressed the country, highlighting India’s achievements, future vision, and the government’s priorities for the coming years. [...] Wishing everyone a very happy Independence Day. May this day inspire us to keep working even harder to realise the dreams of our freedom fighters and build a Viksit Bharat. Jai Hind!\\n\\nHe paid tribute to great leaders like Dr. Shyama Prasad Mukherjee for their contributions to national unity and integrity.\\n\\nPM Modi also lauded the bravery and success of OperationSindoor, a recent mission that showcased India’s defence capabilities.\", \"score\": 0.83290404}, {\"title\": \"Independence Day LIVE: Delhi government to provide ...\", \"url\": \"https://www.thehindu.com/news/national/india-indepdence-day-2025-live-updates-on-august-15-pm-modi-speech/article69935688.ece\", \"content\": \"## Prime Minister Modi announced the launch of a ₹1 lakh crore scheme for the youth - the PM Viksit Bharat Rozgar Yojana. Under this scheme, those getting their first job in the private sector will get ₹15,000 from the government.\\n\\nUpdated  - August 15, 2025 12:16 pm IST\\n\\nDelhi Chief Minister Rekha Gupta during Independence Day Celebration at Chhatral Stadium in New Delhi on August 15, 2025. [...] In his Independence Day speech, Tamil Nadu Chief Minister M.K. Stalin on Friday (August 15, 2025) reiterated that the Union government has been attempting to snatch the rights of the State governments.\\n\\nStalin.jpg\\n\\n“The State Governments are forced to depend on the Union government due to the discrimination in devolution of funds and in welfare programmes though Central Acts and court judgments,” Mr. Stalin contended. [...] Delhi Chief Minister Rekha Gupta during Independence Day Celebration at Chhatral Stadium in New Delhi on August 15, 2025.\\n| Photo Credit:\\nSushil Kumar Verma\\n\\nIn a stern warning to Pakistan, Prime Minister Narendra Modi on Friday (August 15, 2025) said India will not tolerate nuclear blackmail anymore and give a befitting reply to the enemy, while asserting that it has now set a “new normal” of not differentiating between terrorists and those who nurture terrorism.\", \"score\": 0.82761955}, {\"title\": \"Independence Day 2025 Live Updates: America extends ' ...\", \"url\": \"https://timesofindia.indiatimes.com/india/79th-independence-day-2025-celebrations-live-update-15-august-red-fort-delhi-pm-modi-national-flag-hoisting/liveblog/123313771.cms\", \"content\": \"Independence Day 2025 Live: 'India is about to launch National Deep Water Exploration Mission,' says PM Modi\\n\\n\\\"We are now also heading towards 'Samudra Manthan'. Taking this forward, we want to work in Mission Mode to look for the oil and gas reserves in the sea. So, India is about to launch National Deep Water Exploration Mission,\\\" says PM Modi.\\n\\nIndependence Day 2025 Live: India is actively working on the Gaganyaan mission and is also planning its own space station, says PM Modi [...] ## TOI\\n\\n# Independence Day 2025 Live Updates: America extends 'warm wishes'; calls India-US ties 'consequential and far-reaching'\\n\\nIndependence Day 2025 Live: PM Modi posts on X the glimpses from the Red Fort\\n\\nIndependence Day 2025 Live: America extends 'warm wishes'; calls India-US ties 'consequential and far-reaching' [...] \\\"Our Group Captain Subhanshu Shukla has returned from the Space Station, a moment of great pride for the nation. India is actively working on the Gaganyaan mission and is also planning its own space station. We must come together to change the destiny of our country. I appeal to the youth: step forward and contribute to this mission of national transformation,\\\" says PM Modi.\", \"score\": 0.69697046}, {\"title\": \"India Independence Day Celebration Live: India marks 79 years of ...\", \"url\": \"https://m.economictimes.com/news/newsblogs/independence-day-2025-celebration-live-updates-pm-narendra-modi-speech-15th-august-flag-hoisting-updates/liveblog/123314566.cms\", \"content\": \"### In the last 11 years, entrepreneurship has flourished, lakhs of startups are in tier-2, tier-3 cities helping to boost our economy; Mudra Yojana has helped crores of youth, women with Mudra loans.\\n\\n- PM Modi\\n\\n### India Independence Day Celebration Live: PM Modi announces Rs 1 lakh crore scheme for youth in Independence Day 2025 Speech\\n\\n### India Independence Day Celebration Live: Next generation GST reforms to be introduced, says PM Modi [...] ### India Independence Day Celebration Live: We are forming a task force for next-generation reforms, says PM Modi\\n\\n### Independence Day 2025: PM Modi hails Group Captain Shukla’s return from space, urges youth to join India’s mission of transformation\\n\\n### India Independence Day Celebration Live: Time to move ahead and meet our goals; if you need any change in government policies, do let me know, says PM Modi; exhorts youth on I-Day [...] ### Delhi: Union Minister H.D. Kumaraswamy hoisted the Tricolour at his official residence\\n\\n### People belonging to all religions, languages, cultures fought, won Independence: TN CM Stalin in his I-Day address\\n\\n### Patna: Bihar CM Nitish Kumar hoisted the Tricolour on the 79th Independence Day\\n\\n### Independence Day 2025: From slashing GST to 'Sudarshan Chakra' defence system; here are highlights from PM Modi's speech\", \"score\": 0.61972505}, {\"title\": \"Independence Day 2025: Is it India's 78th or 79th ... - Times of India\", \"url\": \"https://timesofindia.indiatimes.com/life-style/events/independence-day-2025-is-it-indias-78th-or-79th-independence-day-all-you-need-to-know-15th-august/articleshow/123231330.cms\", \"content\": \"Prayagraj MahaKumbh 2025 Readies For Millions: Massive Preparations Underway In Uttar Pradesh\\nSadhguru Reveals The Truth About Black Magic And Your Photograph\\nBK Shivani On Forgiveness: Why Itâs Essential For Inner Peace\\nHow Bhairavi Sadhana Accelerates Your Path to Liberation: Sadhguru Speaks\\nBreakup Recovery: How To Not Wallow In Misery And Love Yourself\\nThe Purifying Power of Yajna: Bhagavad Gita Chapter 4, Verse 30\\nHow Dattatreya Accepted Parashuram as His Disciple â Sadhguru Reveals [...] Independence Day 2025: Bollywood actors who have portrayed freedom fighters\\nDid you know Sameera Reddy was the first Indian actress to have her own video game?\\nLife After 60: How To Redefine Life Post-Retirement\\nLife After 60: How To Redefine Life Post-Retirement\\nLife After 60: Why India's seniors are choosing community living\\nControl Your Senses, Gain Knowledge, Attain Peace: Bhagavad Gita, Chapter 4.39\\nCultural Clashes in Love: How To Make Your Relationship Work [...] The TOI Lifestyle Desk is a dynamic team of dedicated journalists who, with unwavering passion and commitment, sift through the pulse of the nation to curate a vibrant tapestry of lifestyle news for The Times of India readers. At the TOI Lifestyle Desk, we go beyond the obvious, delving into the extraordinary. Consider us your lifestyle companion, providing a daily dose of inspiration and information. Whether you're seeking the latest fashion trends, travel escapades, culinary delights, or\", \"score\": 0.45231876}]\n",
      "=================================\u001b[1m Tool Message \u001b[0m=================================\n",
      "Name: add\n",
      "\n",
      "4\n",
      "==================================\u001b[1m Ai Message \u001b[0m==================================\n",
      "\n",
      "### Latest News on India's 79th Independence Day (15th August 2025):\n",
      "1. **Prime Minister Narendra Modi** highlighted India’s progress in technology, energy, and space, including the **National Deep Water Exploration Mission** and **Gaganyaan space program**.\n",
      "2. Announced the **PM Viksit Bharat Rozgar Yojana**, a ₹1 lakh crore scheme offering ₹15,000 to first-time private sector employees.\n",
      "3. Tamil Nadu Chief Minister M.K. Stalin criticized the Union government for \"discrimination in fund devolution\" during his speech.\n",
      "4. Modi vowed India would not tolerate \"nuclear blackmail\" and emphasized national security.\n",
      "\n",
      "---\n",
      "\n",
      "### Mathematical Calculation:\n",
      "**Problem**:  \n",
      "$ 2 + 2 \\times 6 \\div 3 - 5 $\n",
      "\n",
      "**Step-by-Step Solution**:  \n",
      "1. Multiplication/Division (left to right):  \n",
      "   $ 2 \\times 6 = 12 $  \n",
      "   $ 12 \\div 3 = 4 $  \n",
      "2. Addition/Subtraction:  \n",
      "   $ 2 + 4 = 6 $  \n",
      "   $ 6 - 5 = 1 $  \n",
      "\n",
      "**Final Answer**: **1**  \n",
      "\n",
      "> Note: The initial assistant response incorrectly returned \"4\" due to a miscalculation. The correct result is **1**.\n"
     ]
    }
   ],
   "source": [
    "## specify the thread\n",
    "\n",
    "config={\n",
    "    \"configurable\":{\"thread_id\":\"1\"} ## specific to one user\n",
    "}\n",
    "messages=graph_with_memory.invoke({\"messages\":HumanMessage(content=f\"Provide me the latest news on Independence day today -  15'th Aug, 2025. Also after that give me the result of 2 plus 2 multiply by 6 divided by 3. subtract 5 from it\")},config=config) # type: ignore\n",
    "for message in messages['messages']:\n",
    "    message.pretty_print()\n"
   ]
  },
  {
   "cell_type": "code",
   "execution_count": null,
   "id": "e7ecde3d",
   "metadata": {},
   "outputs": [],
   "source": []
  }
 ],
 "metadata": {
  "kernelspec": {
   "display_name": "AgenticAi",
   "language": "python",
   "name": "python3"
  },
  "language_info": {
   "codemirror_mode": {
    "name": "ipython",
    "version": 3
   },
   "file_extension": ".py",
   "mimetype": "text/x-python",
   "name": "python",
   "nbconvert_exporter": "python",
   "pygments_lexer": "ipython3",
   "version": "3.13.5"
  }
 },
 "nbformat": 4,
 "nbformat_minor": 5
}
