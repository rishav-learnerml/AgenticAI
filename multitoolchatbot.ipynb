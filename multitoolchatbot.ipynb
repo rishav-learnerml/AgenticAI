{
 "cells": [
  {
   "cell_type": "markdown",
   "id": "9bcff916",
   "metadata": {},
   "source": [
    "## Building a chatbot with multiple tools using langgraph\""
   ]
  },
  {
   "cell_type": "code",
   "execution_count": 1,
   "id": "3ad9007c",
   "metadata": {},
   "outputs": [],
   "source": [
    "from langchain_community.tools import ArxivQueryRun, WikipediaQueryRun\n",
    "from langchain_community.utilities import WikipediaAPIWrapper, ArxivAPIWrapper"
   ]
  },
  {
   "cell_type": "code",
   "execution_count": 2,
   "id": "080cd6bd",
   "metadata": {},
   "outputs": [
    {
     "name": "stdout",
     "output_type": "stream",
     "text": [
      "arxiv\n"
     ]
    }
   ],
   "source": [
    "api_wrapper_arxiv=ArxivAPIWrapper(top_k_results=2,doc_content_chars_max=500)\n",
    "arxiv=ArxivQueryRun(api_wrapper=api_wrapper_arxiv)\n",
    "print(arxiv.name)"
   ]
  },
  {
   "cell_type": "code",
   "execution_count": 3,
   "id": "cd1743a5",
   "metadata": {},
   "outputs": [
    {
     "data": {
      "text/plain": [
       "\"Published: 2024-07-22\\nTitle: Attention Is All You Need But You Don't Need All Of It For Inference of Large Language Models\\nAuthors: Georgy Tyukin, Gbetondji J-S Dovonon, Jean Kaddour, Pasquale Minervini\\nSummary: The inference demand for LLMs has skyrocketed in recent months, and serving\\nmodels with low latencies remains challenging due to the quadratic input length\\ncomplexity of the attention layers. In this work, we investigate the effect of\\ndropping MLP and attention layers at inference time o\""
      ]
     },
     "execution_count": 3,
     "metadata": {},
     "output_type": "execute_result"
    }
   ],
   "source": [
    "arxiv.invoke('Attention is all you need')"
   ]
  },
  {
   "cell_type": "code",
   "execution_count": 4,
   "id": "129aca74",
   "metadata": {},
   "outputs": [
    {
     "data": {
      "text/plain": [
       "'wikipedia'"
      ]
     },
     "execution_count": 4,
     "metadata": {},
     "output_type": "execute_result"
    }
   ],
   "source": [
    "api_wrapper_wiki=WikipediaAPIWrapper(top_k_results=1,doc_content_chars_max=500)\n",
    "wiki=WikipediaQueryRun(api_wrapper=api_wrapper_wiki)\n",
    "wiki.name"
   ]
  },
  {
   "cell_type": "code",
   "execution_count": 5,
   "id": "305f5d01",
   "metadata": {},
   "outputs": [
    {
     "data": {
      "text/plain": [
       "'Page: Machine learning\\nSummary: Machine learning (ML) is a field of study in artificial intelligence concerned with the development and study of statistical algorithms that can learn from data and generalise to unseen data, and thus perform tasks without explicit instructions. Within a subdiscipline in machine learning, advances in the field of deep learning have allowed neural networks, a class of statistical algorithms, to surpass many previous machine learning approaches in performance.\\nML fi'"
      ]
     },
     "execution_count": 5,
     "metadata": {},
     "output_type": "execute_result"
    }
   ],
   "source": [
    "wiki.invoke('What is machine learning?')"
   ]
  },
  {
   "cell_type": "code",
   "execution_count": 37,
   "id": "3c416145",
   "metadata": {},
   "outputs": [],
   "source": [
    "from dotenv import load_dotenv\n",
    "load_dotenv()\n",
    "\n",
    "import os\n",
    "\n",
    "os.environ['TAVILY_API_KEY']=os.getenv('TAVILY_API_KEY')\n",
    "os.environ['GROQ_API_KEY']=os.getenv('GROQ_API_KEY')\n",
    "os.environ['HUGGINGFACEHUB_API_TOKEN']=os.getenv('HF_TOKEN')\n",
    "os.environ['OPENAI_API_KEY']=os.getenv('OPENAI_API_KEY')"
   ]
  },
  {
   "cell_type": "code",
   "execution_count": 7,
   "id": "eb557865",
   "metadata": {},
   "outputs": [],
   "source": [
    "from langchain_tavily import TavilySearch\n",
    "\n",
    "travily = TavilySearch(\n",
    "    max_results=5,\n",
    "    topic=\"general\",\n",
    "    # include_answer=False,\n",
    "    # include_raw_content=False,\n",
    "    # include_images=False,\n",
    "    # include_image_descriptions=False,\n",
    "    # search_depth=\"basic\",\n",
    "    # time_range=\"day\",\n",
    "    # include_domains=None,\n",
    "    # exclude_domains=None\n",
    ")"
   ]
  },
  {
   "cell_type": "code",
   "execution_count": 8,
   "id": "33b0327f",
   "metadata": {},
   "outputs": [
    {
     "data": {
      "text/plain": [
       "{'query': 'provide me the mostv recent ai news for 14 August 2025',\n",
       " 'follow_up_questions': None,\n",
       " 'answer': None,\n",
       " 'images': [],\n",
       " 'results': [{'url': 'https://www.youtube.com/watch?v=tmMedNS6D8Q',\n",
       "   'title': 'AI News — August 14, 2025: GPT-5, Copilot, GPT-OSS, Genie 3…',\n",
       "   'content': 'AI recap for August 14, 2025: GPT-5 becomes the default model, Copilot adopts GPT-5, GPT-OSS 20B/120B, Claude Opus 4.1, Genie 3, and more.',\n",
       "   'score': 0.8479807,\n",
       "   'raw_content': None},\n",
       "  {'url': 'https://dwealth.news/2025/08/ai-intelligence-weekly-top-10-8-14-25/',\n",
       "   'title': 'AI INTELLIGENCE | Weekly Top 10 (8/14/25) - Dwealth.news',\n",
       "   'content': 'Viral AI stories this week: USAi launch, Illinois AI therapy ban, GPT-5 price shake-up, and a viral Reddit engagement to an AI chatbot.',\n",
       "   'score': 0.83452857,\n",
       "   'raw_content': None},\n",
       "  {'url': 'https://www.artificialintelligence-news.com/',\n",
       "   'title': 'AI News | Latest AI News, Analysis & Events',\n",
       "   'content': \"... AI giant's plan to train its new AI model, R2. AI Hardware & Chips. August 14, 2025. DeepSeek reverts to Nvidia for R2 model after Huawei AI chip fails. Stay\",\n",
       "   'score': 0.8282873,\n",
       "   'raw_content': None},\n",
       "  {'url': 'https://www.youtube.com/watch?v=L0bc1_TPVm4',\n",
       "   'title': 'Thu Aug 14, 2025 - Humanity Survival Based on \"Motherly\" AI & GPT ...',\n",
       "   'content': 'AI News: Thu Aug 14, 2025 - Humanity Survival Based on \"Motherly\" AI & GPT-5 Reasoning \"Juice\". 43 views · 17 hours ago ...more',\n",
       "   'score': 0.7837407,\n",
       "   'raw_content': None},\n",
       "  {'url': 'https://www.linkedin.com/pulse/ai-news-highlights-from-14th-august-2025-grok-ai-jhmse',\n",
       "   'title': 'AI News Highlights from 14th of August, 2025 - LinkedIn',\n",
       "   'content': 'AI News Highlights from 14th of August, 2025 · Grok · Headlines & Launches · Deep Dives & Analysis · Engineering & Research · ⚡ Quick Links · AI',\n",
       "   'score': 0.7823471,\n",
       "   'raw_content': None}],\n",
       " 'response_time': 1.22,\n",
       " 'request_id': 'd89c28af-964e-43d1-862a-ccc3f9905b41'}"
      ]
     },
     "execution_count": 8,
     "metadata": {},
     "output_type": "execute_result"
    }
   ],
   "source": [
    "travily.invoke('provide me the mostv recent ai news for 14 August 2025')"
   ]
  },
  {
   "cell_type": "code",
   "execution_count": 9,
   "id": "3b4c59a6",
   "metadata": {},
   "outputs": [],
   "source": [
    "### Combine all tools in a list\n",
    "\n",
    "tools=[arxiv,wiki,travily]\n",
    "\n",
    "### Initialize llm model\n",
    "\n",
    "from langchain_groq import ChatGroq\n",
    "\n",
    "llm=ChatGroq(model='qwen/qwen3-32b')\n",
    "\n",
    "llm_with_tools=llm.bind_tools(tools)"
   ]
  },
  {
   "cell_type": "code",
   "execution_count": 10,
   "id": "50fafcb8",
   "metadata": {},
   "outputs": [
    {
     "data": {
      "text/plain": [
       "AIMessage(content='', additional_kwargs={'reasoning_content': 'Okay, the user is asking for recent AI news. Let me see which tool to use. The available tools are arxiv, wikipedia, and tavily_search. Since they want recent news, arxiv is for academic papers, wikipedia might not have the latest updates, and tavily_search is optimized for current events. So I should use tavily_search.\\n\\nNow, looking at the parameters for tavily_search. The user wants recent news, so I need to set the time_range. The options are day, week, month, year. The user said \"recent,\" which is a bit vague, but maybe \"week\" is a safe bet to get the latest updates. Also, the topic parameter: the default is general, but since it\\'s about news, maybe setting topic to \"news\" would be better. Wait, the description says to use \"news\" only for politics, sports, or major events covered by mainstream media. AI news could be general or part of tech news. Hmm, maybe the general topic is okay, but the user specified \"recent AI News,\" so maybe using the \"news\" topic here is appropriate. Alternatively, maybe leave it as general. Let me check the tool\\'s description again. The topic parameter says to use \"news\" only for politics, sports, or major current events. Since AI news can be considered part of general news, but not necessarily politics or sports, maybe it\\'s safer to leave topic as default (general) and use time_range. Also, include_images might be useful if the user wants visuals, but the user didn\\'t mention images, so default to false. The query should be \"recent AI news\". \\n\\nSo the parameters would be: query: \"recent AI news\", time_range: \"week\", topic: \"news\"? Wait, the topic parameter\\'s description says to use \"news\" only for politics, sports, or major current events. Since AI news is more of a general or technology topic, maybe the topic should remain \"general\". Let me confirm. The tool\\'s topic parameter says: \"Use \\'news\\' ONLY for politics, sports, or major current events covered by mainstream media - NOT simply because a query asks for \\'new\\' information.\" Since AI news is not necessarily politics or sports, perhaps the topic should be \"general\". So the parameters would be query: \"recent AI news\", time_range: \"week\", topic: \"general\". Also, set search_depth to \"advanced\" to get comprehensive results. Wait, the default for search_depth is \"basic\", but the description says to use \"advanced\" for complex queries. The user\\'s query is about recent news, which might require more thorough search. So set search_depth to \"advanced\". Also, maybe set start_date to a week ago? But the time_range parameter already handles that. If time_range is set to \"week\", it automatically filters results from the last 7 days. So no need to set start_date. \\n\\nPutting it all together: name is tavily_search, arguments are query: \"recent AI news\", time_range: \"week\", topic: \"general\", search_depth: \"advanced\". Exclude_domains and include_domains are not needed here. Include_images is false by default. That should fetch recent AI news articles from various sources in the past week with an advanced search.\\n', 'tool_calls': [{'id': 'xeceszc0k', 'function': {'arguments': '{\"query\":\"recent AI news\",\"search_depth\":\"advanced\",\"time_range\":\"week\",\"topic\":\"general\"}', 'name': 'tavily_search'}, 'type': 'function'}]}, response_metadata={'token_usage': {'completion_tokens': 722, 'prompt_tokens': 2037, 'total_tokens': 2759, 'completion_time': 1.9023554059999999, 'prompt_time': 0.271384429, 'queue_time': 0.060250451, 'total_time': 2.173739835}, 'model_name': 'qwen/qwen3-32b', 'system_fingerprint': 'fp_5cf921caa2', 'service_tier': 'on_demand', 'finish_reason': 'tool_calls', 'logprobs': None}, id='run--e0d50e92-0943-4c2c-b218-aebcdaa7b80c-0', tool_calls=[{'name': 'tavily_search', 'args': {'query': 'recent AI news', 'search_depth': 'advanced', 'time_range': 'week', 'topic': 'general'}, 'id': 'xeceszc0k', 'type': 'tool_call'}], usage_metadata={'input_tokens': 2037, 'output_tokens': 722, 'total_tokens': 2759})"
      ]
     },
     "execution_count": 10,
     "metadata": {},
     "output_type": "execute_result"
    }
   ],
   "source": [
    "from langchain_core.messages import HumanMessage,AIMessage\n",
    "\n",
    "llm_with_tools.invoke([HumanMessage(content=f\"What is the recent AI News\")])"
   ]
  },
  {
   "cell_type": "code",
   "execution_count": 11,
   "id": "7f72bc6d",
   "metadata": {},
   "outputs": [],
   "source": [
    "## State Schema\n",
    "from typing_extensions import TypedDict\n",
    "from langchain_core.messages import AnyMessage\n",
    "from typing import Annotated\n",
    "from langgraph.graph.message import add_messages\n",
    "\n",
    "class State(TypedDict):\n",
    "    messages:Annotated[list[AnyMessage],add_messages]"
   ]
  },
  {
   "cell_type": "code",
   "execution_count": 12,
   "id": "ceb45178",
   "metadata": {},
   "outputs": [
    {
     "data": {
      "text/plain": [
       "<IPython.core.display.Image object>"
      ]
     },
     "metadata": {},
     "output_type": "display_data"
    }
   ],
   "source": [
    "## Entire chatbot with Langgraph\n",
    "\n",
    "from IPython.display import Image, display\n",
    "from langgraph.graph import StateGraph, START,END\n",
    "from langgraph.prebuilt import ToolNode\n",
    "from langgraph.prebuilt import tools_condition\n",
    "\n",
    "## Node defination\n",
    "def tool_calling_llm(state:State):\n",
    "    return {\"messages\":[llm_with_tools.invoke(state[\"messages\"])]}\n",
    "\n",
    "# build graph\n",
    "builder=StateGraph(State)\n",
    "builder.add_node('tool_calling_llm',tool_calling_llm)\n",
    "builder.add_node('tools',ToolNode(tools))\n",
    "\n",
    "builder.add_edge(START,'tool_calling_llm')\n",
    "builder.add_conditional_edges('tool_calling_llm',tools_condition)\n",
    "\n",
    "builder.add_edge('tools',END)\n",
    "\n",
    "graph=builder.compile()\n",
    "\n",
    "display(Image(graph.get_graph().draw_mermaid_png()))"
   ]
  },
  {
   "cell_type": "code",
   "execution_count": 13,
   "id": "92f8ad60",
   "metadata": {},
   "outputs": [
    {
     "name": "stdout",
     "output_type": "stream",
     "text": [
      "================================\u001b[1m Human Message \u001b[0m=================================\n",
      "\n",
      "What is attention is all you need?\n",
      "==================================\u001b[1m Ai Message \u001b[0m==================================\n",
      "Tool Calls:\n",
      "  arxiv (adgadd18k)\n",
      " Call ID: adgadd18k\n",
      "  Args:\n",
      "    query: attention is all you need\n",
      "=================================\u001b[1m Tool Message \u001b[0m=================================\n",
      "Name: arxiv\n",
      "\n",
      "Published: 2024-07-22\n",
      "Title: Attention Is All You Need But You Don't Need All Of It For Inference of Large Language Models\n",
      "Authors: Georgy Tyukin, Gbetondji J-S Dovonon, Jean Kaddour, Pasquale Minervini\n",
      "Summary: The inference demand for LLMs has skyrocketed in recent months, and serving\n",
      "models with low latencies remains challenging due to the quadratic input length\n",
      "complexity of the attention layers. In this work, we investigate the effect of\n",
      "dropping MLP and attention layers at inference time o\n"
     ]
    }
   ],
   "source": [
    "\n",
    "messages=graph.invoke({\"messages\":\"What is attention is all you need?\"})\n",
    "for message in messages['messages']:\n",
    "    message.pretty_print()"
   ]
  },
  {
   "cell_type": "markdown",
   "id": "cba2dfab",
   "metadata": {},
   "source": [
    "## React Agent Architecture in LangGraph\n",
    "\n",
    "1. act = The model calls the specific tools\n",
    "2. observe = Passes the output back to the model\n",
    "3. reason = Based on the output response of the tool, the model will decide what to do in the next step --> smart agents"
   ]
  },
  {
   "cell_type": "code",
   "execution_count": 14,
   "id": "d1af8311",
   "metadata": {},
   "outputs": [],
   "source": [
    "os.environ['LANGCHAIN_API_KEY']=os.getenv('LANGCHAIN_API_KEY')\n",
    "os.environ['LANGCHAIN_TRACING_V2']='true'\n",
    "os.environ['LANGCHAIN_PROJECT']=os.getenv('LANGCHAIN_PROJECT')"
   ]
  },
  {
   "cell_type": "code",
   "execution_count": 15,
   "id": "ef4d2ec8",
   "metadata": {},
   "outputs": [],
   "source": [
    "## Custom functions --> tools\n",
    "\n",
    "def multiply(a: int,b: int)->int:\n",
    "    \"\"\"\n",
    "    Multiply a and b.\n",
    "\n",
    "    Args:\n",
    "        a: first int\n",
    "        b: second int\n",
    "    \"\"\"\n",
    "    return a * b\n",
    "\n",
    "def add(a: int,b: int)->int:\n",
    "    \"\"\"\n",
    "    Add a and b.\n",
    "\n",
    "    Args:\n",
    "        a: first int\n",
    "        b: second int\n",
    "    \"\"\"\n",
    "    return a + b\n",
    "\n",
    "def subtract(a: int,b: int)->int:\n",
    "    \"\"\"\n",
    "    Subtract a and b.\n",
    "\n",
    "    Args:\n",
    "        a: first int\n",
    "        b: second int\n",
    "    \"\"\"\n",
    "    return a - b\n",
    "\n",
    "def divide(a: int,b: int)->int:\n",
    "    \"\"\"\n",
    "    Divide a and b.\n",
    "\n",
    "    Args:\n",
    "        a: first int\n",
    "        b: second int\n",
    "    \"\"\"\n",
    "    return a // b"
   ]
  },
  {
   "cell_type": "code",
   "execution_count": 16,
   "id": "e840d201",
   "metadata": {},
   "outputs": [
    {
     "name": "stderr",
     "output_type": "stream",
     "text": [
      "/var/folders/ly/spbnwbv12839h6wrzlnkytf00000gn/T/ipykernel_8937/2492452247.py:5: LangChainDeprecationWarning: The class `TavilySearchResults` was deprecated in LangChain 0.3.25 and will be removed in 1.0. An updated version of the class exists in the :class:`~langchain-tavily package and should be used instead. To use it run `pip install -U :class:`~langchain-tavily` and import as `from :class:`~langchain_tavily import TavilySearch``.\n",
      "  tavily = TavilySearchResults()\n"
     ]
    }
   ],
   "source": [
    "## Travily search tool\n",
    "\n",
    "from langchain_community.tools.tavily_search import TavilySearchResults\n",
    "\n",
    "tavily = TavilySearchResults()"
   ]
  },
  {
   "cell_type": "code",
   "execution_count": 17,
   "id": "f128d8c7",
   "metadata": {},
   "outputs": [
    {
     "data": {
      "text/plain": [
       "[{'title': \"What were the key announcements in PM Modi's Independence Day ...\",\n",
       "  'url': 'https://www.thehindu.com/news/national/what-were-the-key-announcements-in-pm-modis-independence-day-2025-speech/article69935897.ece',\n",
       "  'content': 'Published - August 15, 2025 11:18 am IST\\n\\nPrime Minister Narendra Modi being accorded a Guard of Honour during the 79th Independence Day celebration at the Red Fort, in New Delhi, Friday, Aug. 15, 2025.\\n\\nPrime Minister Narendra Modi being accorded a Guard of Honour during the 79th Independence Day celebration at the Red Fort, in New Delhi, Friday, Aug. 15, 2025.\\n| Photo Credit: - [...] Prime Minister Narendra Modi on Friday (August 15, 2025) delivered a 103-minute Independence Day speech from the ramparts of the Red Fort, the longest by any prime minister in India’s history. Mr. Modi broke his 98-minute record from the 78th Independence Day last year. [...] His longest Independence Day speech before 2024 was 96 minutes in 2016, while his shortest speech was in 2017 when he spoke for 56 minutes. On India’s 79th Independence Day, Mr. Modi also broke Indira Gandhi’s record by delivering 12 consecutive speeches from Red Fort to stand next only to Jawaharlal Nehru, who delivered 17 Independence Day addresses in a row.\\n\\nPublished - August 15, 2025 11:18 am IST\\n\\n### Related Topics\\n\\nIndia\\n\\n### Top News Today\\n\\nReturn to frontpage\\nGoogle Play\\nApple Store',\n",
       "  'score': 0.8473754},\n",
       " {'title': 'Independence Day 2025: Is it 78th or 79th I-Day this year? Check ...',\n",
       "  'url': 'https://www.hindustantimes.com/lifestyle/festivals/independence-day-2025-is-it-78th-79th-independence-day-this-year-know-theme-august-15-2025-significance-celebration-101755068612976.html',\n",
       "  'content': 'Independence Day 2025: India marks its Independence Day, or Swatantrata Diwas, every year on August 15. In 2025, it falls on a Friday. The day commemorates India\\'s freedom from over 200 years of British colonial rule on August 15, 1947.\\n\\nSecurity personnel stand guard at the Red Fort before commemorations begin for India\\'s Independence day, in New Delhi, India, Friday, Aug. 15, 2025.(AP)\") [...] Search\\nHindustan Times News\\nIndia Flag\\nIndia Flag\\nUS Flag\\nSign In\\nMy Account\\ncrown-icon\\n\\nSubscribe Now! Get features like\\n\\nad-free-icon\\npremium-icon-1\\nquick-read-icon-1\\nepaper-icon-1\\nsub-popup-img\\nCricket in L1\\nHT100 in L1\\n\\n# Independence Day 2025: Is it 78th or 79th I-Day this year? Check Independence Day 2025 theme, August 15 celebrations\\n\\n## Independence Day 2025: In 2025, will India is celebrating its 79th or 78th Independence Day on August 15 to mark freedom from British rule in 1947? [...] The official Independence Day programme begins with the presentation of a Guard of Honour by the Armed Forces and the Delhi Police to the Prime Minister. It is followed by the unfurling of the tricolour, accompanied by the National Anthem and the 21-gun salute. Helicopters of the Indian Air Force will shower flower petals over Red Fort. Prime Minister Narendra Modi also delivers his Independence Day address.',\n",
       "  'score': 0.7823471},\n",
       " {'title': \"Independence Day 2025: PM Modi's 5 big announcements ...\",\n",
       "  'url': 'https://www.hindustantimes.com/india-news/independence-day-2025-pm-narendra-modi-s-5-big-announcements-sudarshan-chakra-gst-reforms-employment-scheme-101755234774258.html',\n",
       "  'content': 'Prime Minister Narendra Modi made several major announcements during his Independence Day 2025 speech on Friday, August 15. Modi delivered a 103-minute Independence Day speech from the ramparts of the Red Fort, the longest by any prime minister in India\\'s history.\\n\\nPrime Minister Narendra Modi addresses the nation from the Red Fort on the occasion of the 79th Independence Day in New Delhi on Friday, (PTI)\") [...] Search\\nHindustan Times News\\nIndia Flag\\nIndia Flag\\nUS Flag\\nSign In\\nMy Account\\ncrown-icon\\n\\nSubscribe Now! Get features like\\n\\nad-free-icon\\npremium-icon-1\\nquick-read-icon-1\\nepaper-icon-1\\nsub-popup-img\\nCricket in L1\\nHT100 in L1\\n\\n# Independence Day 2025: PM Modi’s 5 big announcements in record 103-minute speech\\n\\n## Prime Minister Narendra Modi delivered a historic 103-minute speech on Independence Day 2025, breaking his own record. [...] Modi broke his own 98-minute record from the 78th Independence Day last year. His longest Independence Day speech before 2024 was 96 minutes in 2016, while his shortest speech was in 2017 when he spoke for 56 minutes.\\n\\n## Follow | Independence Day 2025 LIVE updates\\n\\nOn India\\'s 79th Independence Day, Modi also broke Indira Gandhi\\'s record by delivering 12 consecutive speeches from Red Fort to stand next only to Jawaharlal Nehru who delivered 17 Independence Day addresses in a row.',\n",
       "  'score': 0.7443038},\n",
       " {'title': \"Independence Day 2025 Live Updates: America extends ' ...\",\n",
       "  'url': 'https://timesofindia.indiatimes.com/india/79th-independence-day-2025-celebrations-live-update-15-august-red-fort-delhi-pm-modi-national-flag-hoisting/liveblog/123313771.cms',\n",
       "  'content': '## TOI\\n\\n# Independence Day 2025 Live Updates: America extends \\'warm wishes\\'; calls India-US ties \\'consequential and far-reaching\\'\\n\\nFrance president extends greetings on I-Day, PM Modi thanks him\\n\\n\\'RSS doesn\\'t have any history, Congress party has a longer history\\': Karnataka deputy CM DK Shivakumar on PM Modi\\'s speech [...] Independence Day 2025 Live: \\'India is about to launch National Deep Water Exploration Mission,\\' says PM Modi\\n\\n\"We are now also heading towards \\'Samudra Manthan\\'. Taking this forward, we want to work in Mission Mode to look for the oil and gas reserves in the sea. So, India is about to launch National Deep Water Exploration Mission,\" says PM Modi.\\n\\nIndependence Day 2025 Live: India is actively working on the Gaganyaan mission and is also planning its own space station, says PM Modi [...] Prime Minister Narendra Modi extended greetings to the nation on Independence Day, urging citizens to work harder to fulfil the vision of the freedom fighters.  \\n  \\n\"Wishing everyone a very happy Independence Day. May this day inspire us to keep working even harder to realise the dreams of our freedom fighters and build a Viksit Bharat. Jai Hind!\" he posted on X.\\n\\nIndependence Day 2025 Live: Red Fort adorned with \\'Operation Sindoor\\' theme decor for celebrations',\n",
       "  'score': 0.7067782},\n",
       " {'title': 'Independence Day 2025: Theme, Special Guest, Program List and ...',\n",
       "  'url': 'https://www.jagranjosh.com/general-knowledge/independence-day-2025-theme-special-guest-program-list-and-other-details-1820001468-1',\n",
       "  'content': '## Comments\\n\\n#### All Comments (0)\\n\\ncomment\\n\\n## Join the conversation\\n\\nuser\\ncomment send\\nemoji\\n\\n# Independence Day 2025: Theme, Special Guest, Program List and Other Details\\n\\n## Independence Day 2025: Celebrate India’s 79th Independence Day 2025 on August 15 with patriotic pride and fervor. Learn about the history, theme, guest list, and full program of the Red Fort celebrations honoring India’s freedom fighters. [...] Independence Day, which is celebrated nationwide with formal ceremonies and patriotic fervor, is acknowledged as a national holiday. The Prime Minister raises the national flag at Delhi\\'s Red Fort to start the day, and then he gives a speech to the country.\\n\\n## Independence Day 2025 Theme\\n\\nOn Wednesday, the national government finally declared that the theme for the 79th Independence Day celebrations on August 15 would be \"Naya Bharat.\" [...] The Independence Day celebration of India will consist of the following programs, and that too in the same order:\\n\\nA Guard of Honour is presented to Prime Minister Narendra Modi by the Delhi Police and Armed Forces to start the ceremony at the Red Fort.\\n\\nNext comes the unfurling of the National Flag, singing of the National Anthem, and a 21-Gun Salute.',\n",
       "  'score': 0.683948}]"
      ]
     },
     "execution_count": 17,
     "metadata": {},
     "output_type": "execute_result"
    }
   ],
   "source": [
    "tavily.invoke(\"Provide me the latest news on Independence day today -  15'th Aug, 2025\")"
   ]
  },
  {
   "cell_type": "code",
   "execution_count": 18,
   "id": "28e232a3",
   "metadata": {},
   "outputs": [],
   "source": [
    "tools=[tavily,arxiv,wiki,add,multiply,subtract,divide]\n"
   ]
  },
  {
   "cell_type": "code",
   "execution_count": 19,
   "id": "42054944",
   "metadata": {},
   "outputs": [],
   "source": [
    "llm_with_tools=llm.bind_tools(tools)"
   ]
  },
  {
   "cell_type": "code",
   "execution_count": 20,
   "id": "18eda8a1",
   "metadata": {},
   "outputs": [
    {
     "data": {
      "text/plain": [
       "[{'name': 'tavily_search_results_json',\n",
       "  'args': {'query': 'latest news on Independence day 15th Aug 2025'},\n",
       "  'id': 'm74ge03cx',\n",
       "  'type': 'tool_call'},\n",
       " {'name': 'add',\n",
       "  'args': {'a': 2, 'b': 2},\n",
       "  'id': '887m4a4ps',\n",
       "  'type': 'tool_call'},\n",
       " {'name': 'multiply',\n",
       "  'args': {'a': 4, 'b': 6},\n",
       "  'id': 'abxvjneaz',\n",
       "  'type': 'tool_call'},\n",
       " {'name': 'divide',\n",
       "  'args': {'a': 24, 'b': 3},\n",
       "  'id': 'e1vm3j9g7',\n",
       "  'type': 'tool_call'},\n",
       " {'name': 'subtract',\n",
       "  'args': {'a': 8, 'b': 5},\n",
       "  'id': '1gc73wzmx',\n",
       "  'type': 'tool_call'}]"
      ]
     },
     "execution_count": 20,
     "metadata": {},
     "output_type": "execute_result"
    }
   ],
   "source": [
    "from pprint import pprint\n",
    "\n",
    "from langchain_core.messages import AIMessage,HumanMessage\n",
    "\n",
    "llm_with_tools.invoke([HumanMessage(content=f\"Provide me the latest news on Independence day today -  15'th Aug, 2025. Also after that give me the result of 2 plus 2 multiply by 6 divided by 3. subtract 5 from it\")]).tool_calls\n"
   ]
  },
  {
   "cell_type": "code",
   "execution_count": 21,
   "id": "855d60bb",
   "metadata": {},
   "outputs": [],
   "source": [
    "from typing_extensions import TypedDict\n",
    "from langchain_core.messages import AnyMessage\n",
    "from langgraph.graph.message import add_messages\n",
    "from typing import Annotated\n",
    "\n",
    "class State(TypedDict):\n",
    "    messages:Annotated[list[AnyMessage],add_messages]"
   ]
  },
  {
   "cell_type": "code",
   "execution_count": 22,
   "id": "e33f7b35",
   "metadata": {},
   "outputs": [],
   "source": [
    "## chatbot node functionality\n",
    "\n",
    "def llm_tool(state:State):\n",
    "    return {\"messages\":[llm_with_tools.invoke(state[\"messages\"])]}\n",
    "\n"
   ]
  },
  {
   "cell_type": "code",
   "execution_count": 23,
   "id": "787b3407",
   "metadata": {},
   "outputs": [
    {
     "data": {
      "image/png": "[encoded data removed]",
      "text/plain": [
       "<IPython.core.display.Image object>"
      ]
     },
     "metadata": {},
     "output_type": "display_data"
    }
   ],
   "source": [
    "from IPython.display import Image,display\n",
    "from langgraph.graph import StateGraph, START, END\n",
    "\n",
    "builder=StateGraph(State)\n",
    "\n",
    "builder.add_node(\"tool_calling_llm\",tool_calling_llm)\n",
    "builder.add_node(\"tools\",ToolNode(tools))\n",
    "\n",
    "builder.add_edge(START,'tool_calling_llm')\n",
    "builder.add_conditional_edges('tool_calling_llm',tools_condition)\n",
    "builder.add_edge('tools','tool_calling_llm')\n",
    "\n",
    "\n",
    "graph=builder.compile()\n",
    "display(Image(graph.get_graph().draw_mermaid_png()))"
   ]
  },
  {
   "cell_type": "code",
   "execution_count": 24,
   "id": "916d0a6b",
   "metadata": {},
   "outputs": [
    {
     "name": "stdout",
     "output_type": "stream",
     "text": [
      "================================\u001b[1m Human Message \u001b[0m=================================\n",
      "\n",
      "Provide me the latest news on Independence day today -  15'th Aug, 2025. Also after that give me the result of 2 plus 2 multiply by 6 divided by 3. subtract 5 from it\n",
      "==================================\u001b[1m Ai Message \u001b[0m==================================\n",
      "Tool Calls:\n",
      "  tavily_search_results_json (5t49ka4z6)\n",
      " Call ID: 5t49ka4z6\n",
      "  Args:\n",
      "    query: latest news on Independence day 15th Aug 2025\n",
      "  add (r09yz75n4)\n",
      " Call ID: r09yz75n4\n",
      "  Args:\n",
      "    a: 2\n",
      "    b: 2\n",
      "  multiply (d6523t50e)\n",
      " Call ID: d6523t50e\n",
      "  Args:\n",
      "    a: 4\n",
      "    b: 6\n",
      "  divide (d7t7rmqvv)\n",
      " Call ID: d7t7rmqvv\n",
      "  Args:\n",
      "    a: 24\n",
      "    b: 3\n",
      "  subtract (j0fqncvb6)\n",
      " Call ID: j0fqncvb6\n",
      "  Args:\n",
      "    a: 8\n",
      "    b: 5\n",
      "=================================\u001b[1m Tool Message \u001b[0m=================================\n",
      "Name: tavily_search_results_json\n",
      "\n",
      "[{\"title\": \"What were the key announcements in PM Modi's Independence Day ...\", \"url\": \"https://www.thehindu.com/news/national/what-were-the-key-announcements-in-pm-modis-independence-day-2025-speech/article69935897.ece\", \"content\": \"Published - August 15, 2025 11:18 am IST\\n\\nPrime Minister Narendra Modi being accorded a Guard of Honour during the 79th Independence Day celebration at the Red Fort, in New Delhi, Friday, Aug. 15, 2025.\\n\\nPrime Minister Narendra Modi being accorded a Guard of Honour during the 79th Independence Day celebration at the Red Fort, in New Delhi, Friday, Aug. 15, 2025.\\n| Photo Credit: - [...] Prime Minister Narendra Modi on Friday (August 15, 2025) delivered a 103-minute Independence Day speech from the ramparts of the Red Fort, the longest by any prime minister in India’s history. Mr. Modi broke his 98-minute record from the 78th Independence Day last year. [...] His longest Independence Day speech before 2024 was 96 minutes in 2016, while his shortest speech was in 2017 when he spoke for 56 minutes. On India’s 79th Independence Day, Mr. Modi also broke Indira Gandhi’s record by delivering 12 consecutive speeches from Red Fort to stand next only to Jawaharlal Nehru, who delivered 17 Independence Day addresses in a row.\\n\\nPublished - August 15, 2025 11:18 am IST\\n\\n### Related Topics\\n\\nIndia\\n\\n### Top News Today\\n\\nReturn to frontpage\\nGoogle Play\\nApple Store\", \"score\": 0.8638634}, {\"title\": \"Independence Day highlights: PM Modi pitches for GST ...\", \"url\": \"https://www.thehindu.com/news/national/india-indepdence-day-2025-live-updates-on-august-15-pm-modi-speech/article69935688.ece\", \"content\": \"Prime Minister Narendra Modi on Friday (August 15, 2025) announced a project to develop an indigenous air-defence system to protect India’s vital military and civilian installations and deliver a decisive response to any enemy threat, a move that came amid concerns over security challenges emanating from Pakistan and China. [...] Prime Minister Narendra Modi on Friday (August 15, 2025) announced a National Deep Water Exploration Mission aimed at discovering oil and gas reserves beneath the seabed, as part of efforts to boost domestic production and reduce the country’s multi-billion-dollar import bill. [...] ## On the Indus Waters Treaty, the Prime Minister said it had caused enormous harm to agriculture in India. He said the attack in Pahalgam underscored the futility of continuing the agreement\\n\\nUpdated  - August 15, 2025 09:55 pm IST\\n\\nPrime Minister Narendra Modi after hoisting the national flag during the 79th Independence Day celebration at the Red Fort, in New Delhi, on August 15, 2025.\", \"score\": 0.8593928}, {\"title\": \"Independence Day 2025: Is it 78th or 79th I-Day this year? ...\", \"url\": \"https://www.hindustantimes.com/lifestyle/festivals/independence-day-2025-is-it-78th-79th-independence-day-this-year-know-theme-august-15-2025-significance-celebration-101755068612976.html\", \"content\": \"Independence Day 2025: India marks its Independence Day, or Swatantrata Diwas, every year on August 15. In 2025, it falls on a Friday. The day commemorates India's freedom from over 200 years of British colonial rule on August 15, 1947.\\n\\nSecurity personnel stand guard at the Red Fort before commemorations begin for India's Independence day, in New Delhi, India, Friday, Aug. 15, 2025.(AP)\\\") [...] Search\\nHindustan Times News\\nIndia Flag\\nIndia Flag\\nUS Flag\\nSign In\\nMy Account\\ncrown-icon\\n\\nSubscribe Now! Get features like\\n\\nad-free-icon\\npremium-icon-1\\nquick-read-icon-1\\nepaper-icon-1\\nsub-popup-img\\nCricket in L1\\nHT100 in L1\\n\\n# Independence Day 2025: Is it 78th or 79th I-Day this year? Check Independence Day 2025 theme, August 15 celebrations\\n\\n## Independence Day 2025: In 2025, will India is celebrating its 79th or 78th Independence Day on August 15 to mark freedom from British rule in 1947? [...] The official Independence Day programme begins with the presentation of a Guard of Honour by the Armed Forces and the Delhi Police to the Prime Minister. It is followed by the unfurling of the tricolour, accompanied by the National Anthem and the 21-gun salute. Helicopters of the Indian Air Force will shower flower petals over Red Fort. Prime Minister Narendra Modi also delivers his Independence Day address.\", \"score\": 0.75268626}, {\"title\": \"India's 79th Independence Day 2025 Highlights: PM Modi ...\", \"url\": \"https://indianexpress.com/article/india/79th-independence-day-2025-speech-flag-hoisting-quotes-live-updates-pm-narendra-modi-president-droupadi-murmu-speech-10188549/\", \"content\": \"India’s 79th Independence Day 2025 Highlights: Prime Minister Narendra Modi addressed the nation from Red Fort after hoisting the national flag on the occasion of Independence Day. During his speech, PM Modi spoke about India’s success during Operation Sindoor, farmers’ welfare and launched multiple schemes. One key announcement was the new GST reforms, set to kick in by Diwali and aimed at lowering the prices of daily-use commodities across the country. PM Modi also spoke about Mission [...] follow us on Facebook\\nfollow us on Twitter\\nfollow us on youtube\\nfollow us on Instagram\\nThe Indian Express logo\\n\\n# India’s 79th Independence Day 2025 Highlights: PM Modi announces new GST reforms by Diwali; to reduce tax on daily-use items\\n\\n## India's 79th Independence Day 2025 President Droupadi Murmu, PM Narendra Modi Speech Highlights: Prime Minister Narendra Modi addressed the nation from Red Fort, speaking about India's achievements in the past year. [...] the country was feeling over the Pahalgam terror attack in which terrorists from across the border carried out a gruesome massacre, killing people after asking their religion.\", \"score\": 0.67243975}, {\"title\": \"Independence Day 2025: Theme, Special Guest, Program List and ...\", \"url\": \"https://www.jagranjosh.com/general-knowledge/independence-day-2025-theme-special-guest-program-list-and-other-details-1820001468-1\", \"content\": \"## Comments\\n\\n#### All Comments (0)\\n\\ncomment\\n\\n## Join the conversation\\n\\nuser\\ncomment send\\nemoji\\n\\n# Independence Day 2025: Theme, Special Guest, Program List and Other Details\\n\\n## Independence Day 2025: Celebrate India’s 79th Independence Day 2025 on August 15 with patriotic pride and fervor. Learn about the history, theme, guest list, and full program of the Red Fort celebrations honoring India’s freedom fighters. [...] Independence Day Theme:India's 79th Independence Day will be observed on August 15th to honor the country's hard-fought independence from 200 years of British colonial control in 1947. The event is coming closer with each passing day. The significance of this day in Indian history is irreplaceable. The event honors the sacrifices made by the freedom warriors who cleared the path for India's independence and inspires a strong sense of pride and thankfulness among people across the nation. [...] Independence Day, which is celebrated nationwide with formal ceremonies and patriotic fervor, is acknowledged as a national holiday. The Prime Minister raises the national flag at Delhi's Red Fort to start the day, and then he gives a speech to the country.\\n\\n## Independence Day 2025 Theme\\n\\nOn Wednesday, the national government finally declared that the theme for the 79th Independence Day celebrations on August 15 would be \\\"Naya Bharat.\\\"\", \"score\": 0.6455898}]\n",
      "=================================\u001b[1m Tool Message \u001b[0m=================================\n",
      "Name: add\n",
      "\n",
      "4\n",
      "=================================\u001b[1m Tool Message \u001b[0m=================================\n",
      "Name: multiply\n",
      "\n",
      "24\n",
      "=================================\u001b[1m Tool Message \u001b[0m=================================\n",
      "Name: divide\n",
      "\n",
      "8\n",
      "=================================\u001b[1m Tool Message \u001b[0m=================================\n",
      "Name: subtract\n",
      "\n",
      "3\n",
      "==================================\u001b[1m Ai Message \u001b[0m==================================\n",
      "\n",
      "**Latest News on Independence Day (15th August 2025):**  \n",
      "1. **PM Modi's Record-Breaking Speech**: Prime Minister Narendra Modi delivered a **103-minute** address at the Red Fort, emphasizing GST reforms, indigenous defense projects, and energy security. He also announced a **National Deep Water Exploration Mission** to boost oil and gas reserves.  \n",
      "2. **Security Announcements**: A new indigenous air-defense system was proposed to counter threats from Pakistan and China.  \n",
      "3. **Indus Waters Treaty Critique**: Modi criticized the treaty for harming Indian agriculture, citing the Pahalgam terror attack as a reason to reassess it.  \n",
      "\n",
      "**Math Result**:  \n",
      "The calculation $ (2 + 2) \\times 6 \\div 3 - 5 $ simplifies as follows:  \n",
      "1. $ 2 + 2 = 4 $  \n",
      "2. $ 4 \\times 6 = 24 $  \n",
      "3. $ 24 \\div 3 = 8 $  \n",
      "4. $ 8 - 5 = **3** $  \n",
      "\n",
      "**Final Answer**:  \n",
      "3\n"
     ]
    }
   ],
   "source": [
    "messages=graph.invoke({\"messages\":HumanMessage(content=f\"Provide me the latest news on Independence day today -  15'th Aug, 2025. Also after that give me the result of 2 plus 2 multiply by 6 divided by 3. subtract 5 from it\")}) # type: ignore\n",
    "for message in messages['messages']:\n",
    "    message.pretty_print()"
   ]
  },
  {
   "cell_type": "markdown",
   "id": "4707b92d",
   "metadata": {},
   "source": [
    "## Agent with memory in LangGraph"
   ]
  },
  {
   "cell_type": "code",
   "execution_count": 25,
   "id": "71e5218c",
   "metadata": {},
   "outputs": [
    {
     "data": {
      "image/png": "[encoded data removed]",
      "text/plain": [
       "<IPython.core.display.Image object>"
      ]
     },
     "metadata": {},
     "output_type": "display_data"
    }
   ],
   "source": [
    "from langgraph.checkpoint.memory import MemorySaver\n",
    "memory=MemorySaver()\n",
    "graph_with_memory=builder.compile(checkpointer=memory) ## saved in memory\n",
    "\n",
    "display(Image(graph.get_graph().draw_mermaid_png()))"
   ]
  },
  {
   "cell_type": "code",
   "execution_count": 26,
   "id": "1e20aed5",
   "metadata": {},
   "outputs": [
    {
     "name": "stdout",
     "output_type": "stream",
     "text": [
      "================================\u001b[1m Human Message \u001b[0m=================================\n",
      "\n",
      "Provide me the latest news on Independence day today -  15'th Aug, 2025. Also after that give me the result of 2 plus 2 multiply by 6 divided by 3. subtract 5 from it\n",
      "==================================\u001b[1m Ai Message \u001b[0m==================================\n",
      "Tool Calls:\n",
      "  tavily_search_results_json (wjp5wrv07)\n",
      " Call ID: wjp5wrv07\n",
      "  Args:\n",
      "    query: latest news on Independence day 15th Aug 2025\n",
      "  divide (jyn2we4r0)\n",
      " Call ID: jyn2we4r0\n",
      "  Args:\n",
      "    a: 6\n",
      "    b: 3\n",
      "  multiply (ehja8gr83)\n",
      " Call ID: ehja8gr83\n",
      "  Args:\n",
      "    a: 2\n",
      "    b: 2\n",
      "  add (y45tzmq4k)\n",
      " Call ID: y45tzmq4k\n",
      "  Args:\n",
      "    a: 2\n",
      "    b: 4\n",
      "  subtract (e00dcd9eq)\n",
      " Call ID: e00dcd9eq\n",
      "  Args:\n",
      "    a: 6\n",
      "    b: 5\n",
      "=================================\u001b[1m Tool Message \u001b[0m=================================\n",
      "Name: tavily_search_results_json\n",
      "\n",
      "[{\"title\": \"What were the key announcements in PM Modi's Independence Day ...\", \"url\": \"https://www.thehindu.com/news/national/what-were-the-key-announcements-in-pm-modis-independence-day-2025-speech/article69935897.ece\", \"content\": \"Published - August 15, 2025 11:18 am IST\\n\\nPrime Minister Narendra Modi being accorded a Guard of Honour during the 79th Independence Day celebration at the Red Fort, in New Delhi, Friday, Aug. 15, 2025.\\n\\nPrime Minister Narendra Modi being accorded a Guard of Honour during the 79th Independence Day celebration at the Red Fort, in New Delhi, Friday, Aug. 15, 2025.\\n| Photo Credit: - [...] Prime Minister Narendra Modi on Friday (August 15, 2025) delivered a 103-minute Independence Day speech from the ramparts of the Red Fort, the longest by any prime minister in India’s history. Mr. Modi broke his 98-minute record from the 78th Independence Day last year. [...] His longest Independence Day speech before 2024 was 96 minutes in 2016, while his shortest speech was in 2017 when he spoke for 56 minutes. On India’s 79th Independence Day, Mr. Modi also broke Indira Gandhi’s record by delivering 12 consecutive speeches from Red Fort to stand next only to Jawaharlal Nehru, who delivered 17 Independence Day addresses in a row.\\n\\nPublished - August 15, 2025 11:18 am IST\\n\\n### Related Topics\\n\\nIndia\\n\\n### Top News Today\\n\\nReturn to frontpage\\nGoogle Play\\nApple Store\", \"score\": 0.8638634}, {\"title\": \"Independence Day 2025: Is it 78th or 79th I-Day this year? ...\", \"url\": \"https://www.hindustantimes.com/lifestyle/festivals/independence-day-2025-is-it-78th-79th-independence-day-this-year-know-theme-august-15-2025-significance-celebration-101755068612976.html\", \"content\": \"Independence Day 2025: India marks its Independence Day, or Swatantrata Diwas, every year on August 15. In 2025, it falls on a Friday. The day commemorates India's freedom from over 200 years of British colonial rule on August 15, 1947.\\n\\nSecurity personnel stand guard at the Red Fort before commemorations begin for India's Independence day, in New Delhi, India, Friday, Aug. 15, 2025.(AP)\\\") [...] Search\\nHindustan Times News\\nIndia Flag\\nIndia Flag\\nUS Flag\\nSign In\\nMy Account\\ncrown-icon\\n\\nSubscribe Now! Get features like\\n\\nad-free-icon\\npremium-icon-1\\nquick-read-icon-1\\nepaper-icon-1\\nsub-popup-img\\nCricket in L1\\nHT100 in L1\\n\\n# Independence Day 2025: Is it 78th or 79th I-Day this year? Check Independence Day 2025 theme, August 15 celebrations\\n\\n## Independence Day 2025: In 2025, will India is celebrating its 79th or 78th Independence Day on August 15 to mark freedom from British rule in 1947? [...] The official Independence Day programme begins with the presentation of a Guard of Honour by the Armed Forces and the Delhi Police to the Prime Minister. It is followed by the unfurling of the tricolour, accompanied by the National Anthem and the 21-gun salute. Helicopters of the Indian Air Force will shower flower petals over Red Fort. Prime Minister Narendra Modi also delivers his Independence Day address.\", \"score\": 0.75268626}, {\"title\": \"Independence Day 2025 Live Updates: America extends 'warm ...\", \"url\": \"https://timesofindia.indiatimes.com/india/79th-independence-day-2025-celebrations-live-update-15-august-red-fort-delhi-pm-modi-national-flag-hoisting/liveblog/123313771.cms\", \"content\": \"Independence Day 2025 Live: 'India is about to launch National Deep Water Exploration Mission,' says PM Modi\\n\\n\\\"We are now also heading towards 'Samudra Manthan'. Taking this forward, we want to work in Mission Mode to look for the oil and gas reserves in the sea. So, India is about to launch National Deep Water Exploration Mission,\\\" says PM Modi.\\n\\nIndependence Day 2025 Live: India is actively working on the Gaganyaan mission and is also planning its own space station, says PM Modi [...] \\\"Our Group Captain Subhanshu Shukla has returned from the Space Station, a moment of great pride for the nation. India is actively working on the Gaganyaan mission and is also planning its own space station. We must come together to change the destiny of our country. I appeal to the youth: step forward and contribute to this mission of national transformation,\\\" says PM Modi. [...] \\\"We have implemented major reforms across various sectors, including Foreign Direct Investment (FDI), insurance, and opening space for the world’s top universities to operate in India. We have overhauled outdated criminal laws that had remained unchanged for decades. More than 40,000 unnecessary compliances have been eliminated,\\\" PM Modi said.\", \"score\": 0.70483154}, {\"title\": \"India's 79th Independence Day 2025 Highlights: PM Modi ...\", \"url\": \"https://indianexpress.com/article/india/79th-independence-day-2025-speech-flag-hoisting-quotes-live-updates-pm-narendra-modi-president-droupadi-murmu-speech-10188549/\", \"content\": \"India’s 79th Independence Day 2025 Highlights: Prime Minister Narendra Modi addressed the nation from Red Fort after hoisting the national flag on the occasion of Independence Day. During his speech, PM Modi spoke about India’s success during Operation Sindoor, farmers’ welfare and launched multiple schemes. One key announcement was the new GST reforms, set to kick in by Diwali and aimed at lowering the prices of daily-use commodities across the country. PM Modi also spoke about Mission [...] follow us on Facebook\\nfollow us on Twitter\\nfollow us on youtube\\nfollow us on Instagram\\nThe Indian Express logo\\n\\n# India’s 79th Independence Day 2025 Highlights: PM Modi announces new GST reforms by Diwali; to reduce tax on daily-use items\\n\\n## India's 79th Independence Day 2025 President Droupadi Murmu, PM Narendra Modi Speech Highlights: Prime Minister Narendra Modi addressed the nation from Red Fort, speaking about India's achievements in the past year. [...] the country was feeling over the Pahalgam terror attack in which terrorists from across the border carried out a gruesome massacre, killing people after asking their religion.\", \"score\": 0.67243975}, {\"title\": \"Independence Day 2025: Theme, Special Guest, Program ...\", \"url\": \"https://www.jagranjosh.com/general-knowledge/independence-day-2025-theme-special-guest-program-list-and-other-details-1820001468-1\", \"content\": \"## Comments\\n\\n#### All Comments (0)\\n\\ncomment\\n\\n## Join the conversation\\n\\nuser\\ncomment send\\nemoji\\n\\n# Independence Day 2025: Theme, Special Guest, Program List and Other Details\\n\\n## Independence Day 2025: Celebrate India’s 79th Independence Day 2025 on August 15 with patriotic pride and fervor. Learn about the history, theme, guest list, and full program of the Red Fort celebrations honoring India’s freedom fighters. [...] Independence Day Theme:India's 79th Independence Day will be observed on August 15th to honor the country's hard-fought independence from 200 years of British colonial control in 1947. The event is coming closer with each passing day. The significance of this day in Indian history is irreplaceable. The event honors the sacrifices made by the freedom warriors who cleared the path for India's independence and inspires a strong sense of pride and thankfulness among people across the nation. [...] Independence Day, which is celebrated nationwide with formal ceremonies and patriotic fervor, is acknowledged as a national holiday. The Prime Minister raises the national flag at Delhi's Red Fort to start the day, and then he gives a speech to the country.\\n\\n## Independence Day 2025 Theme\\n\\nOn Wednesday, the national government finally declared that the theme for the 79th Independence Day celebrations on August 15 would be \\\"Naya Bharat.\\\"\", \"score\": 0.6445166}]\n",
      "=================================\u001b[1m Tool Message \u001b[0m=================================\n",
      "Name: divide\n",
      "\n",
      "2\n",
      "=================================\u001b[1m Tool Message \u001b[0m=================================\n",
      "Name: multiply\n",
      "\n",
      "4\n",
      "=================================\u001b[1m Tool Message \u001b[0m=================================\n",
      "Name: add\n",
      "\n",
      "6\n",
      "=================================\u001b[1m Tool Message \u001b[0m=================================\n",
      "Name: subtract\n",
      "\n",
      "1\n",
      "==================================\u001b[1m Ai Message \u001b[0m==================================\n",
      "\n",
      "### Latest News on Independence Day 2025:\n",
      "1. **PM Modi's Historic Speech**: Delivered a **103-minute address** from the Red Fort, breaking his own record. Key announcements included:\n",
      "   - Launch of the **National Deep Water Exploration Mission**.\n",
      "   - Updates on **Gaganyaan** (India's space mission) and plans for a **Space Station**.\n",
      "   - Reforms in sectors like **GST, FDI, and criminal laws**, including eliminating over 40,000 compliances.\n",
      "   - Tribute to victims of the **Pahalgam terror attack**.\n",
      "\n",
      "2. **79th Anniversary Celebrations**: Marked with a **Guard of Honour**, flag-hoisting by PM Modi, and a 21-gun salute. The theme emphasized **\"Naya Bharat\"** (New India).\n",
      "\n",
      "3. **International Recognition**: The U.S. extended warm wishes to India on Independence Day.\n",
      "\n",
      "---\n",
      "\n",
      "### Math Problem Solution:\n",
      "**Problem**: $ 2 + 2 \\times 6 \\div 3 - 5 $  \n",
      "**Steps**:\n",
      "1. **Multiplication/Division** (left to right):  \n",
      "   $ 2 \\times 6 = 12 $  \n",
      "   $ 12 \\div 3 = 4 $  \n",
      "2. **Addition/Subtraction**:  \n",
      "   $ 2 + 4 = 6 $  \n",
      "   $ 6 - 5 = 1 $  \n",
      "**Final Answer**: **1**  \n",
      "\n",
      "(Note: The assistant’s earlier tool calls correctly followed order of operations, leading to the result **1**.)\n"
     ]
    }
   ],
   "source": [
    "## specify the thread\n",
    "\n",
    "config={\n",
    "    \"configurable\":{\"thread_id\":\"1\"} ## specific to one user\n",
    "}\n",
    "messages=graph_with_memory.invoke({\"messages\":HumanMessage(content=f\"Provide me the latest news on Independence day today -  15'th Aug, 2025. Also after that give me the result of 2 plus 2 multiply by 6 divided by 3. subtract 5 from it\")},config=config) # type: ignore\n",
    "for message in messages['messages']:\n",
    "    message.pretty_print()\n"
   ]
  },
  {
   "cell_type": "code",
   "execution_count": 27,
   "id": "e7ecde3d",
   "metadata": {},
   "outputs": [],
   "source": [
    "from typing import Annotated,List\n",
    "from typing_extensions import Literal\n",
    "import operator\n",
    "from pydantic import BaseModel,Field\n",
    "from langchain_core.messages import HumanMessage,SystemMessage\n",
    "from typing_extensions import TypedDict\n",
    "\n",
    "class Section(BaseModel):\n",
    "    name:str=Field(description=\"Name for this section of the report\")\n",
    "    description:str=Field(description=\"Brief overview of the main topics and concepts of the section\")\n",
    "\n",
    "class Sections(BaseModel):\n",
    "    sections:List[Section]=Field(\n",
    "        description=\"Sections of the report\"\n",
    "    )\n",
    "\n",
    "planner=llm.with_structured_output(Sections)"
   ]
  },
  {
   "cell_type": "code",
   "execution_count": 28,
   "id": "71f6f56c",
   "metadata": {},
   "outputs": [
    {
     "name": "stderr",
     "output_type": "stream",
     "text": [
      "/var/folders/ly/spbnwbv12839h6wrzlnkytf00000gn/T/ipykernel_8937/339909892.py:3: LangGraphDeprecatedSinceV10: Importing Send from langgraph.constants is deprecated. Please use 'from langgraph.types import Send' instead. Deprecated in LangGraph V1.0 to be removed in V2.0.\n",
      "  from langgraph.constants import Send\n"
     ]
    }
   ],
   "source": [
    "### Creating Workers Dynamically in LangGraph\n",
    "\n",
    "from langgraph.constants import Send\n",
    "\n",
    "# Graph state\n",
    "class State(TypedDict):\n",
    "    topic:str\n",
    "    sections:list[Section]\n",
    "    completed_sections: Annotated[list,operator.add]\n",
    "    final_report:str\n",
    "\n",
    "class WorkerState(TypedDict):\n",
    "    section:Section\n",
    "    completed_sections: Annotated[list,operator.add]"
   ]
  },
  {
   "cell_type": "code",
   "execution_count": 29,
   "id": "d120eceb",
   "metadata": {},
   "outputs": [],
   "source": [
    "def orchestrator(state:State):\n",
    "    \"\"\"Orchestrator that generates a plan for the report\"\"\"\n",
    "\n",
    "    # Generate queries\n",
    "    report_sections=planner.invoke(\n",
    "        [\n",
    "            SystemMessage(content='Generate a plan for the report.'),\n",
    "            HumanMessage(content=f\"Here is the report topic: {state['topic']}\"),\n",
    "        ]\n",
    "    )\n",
    "\n",
    "    print('Report Sections:',report_sections)\n",
    "\n",
    "    return {\"sections\":report_sections.sections} #type:ignore"
   ]
  },
  {
   "cell_type": "code",
   "execution_count": 30,
   "id": "572254db",
   "metadata": {},
   "outputs": [
    {
     "name": "stderr",
     "output_type": "stream",
     "text": [
      "USER_AGENT environment variable not set, consider setting it to identify your requests.\n"
     ]
    }
   ],
   "source": [
    "from langchain_community.document_loaders import WebBaseLoader\n",
    "from langchain_community.vectorstores import FAISS\n",
    "from langchain_huggingface import HuggingFaceEmbeddings\n",
    "from langchain_text_splitters import RecursiveCharacterTextSplitter\n",
    "import os\n"
   ]
  },
  {
   "cell_type": "code",
   "execution_count": 31,
   "id": "254a42f1",
   "metadata": {},
   "outputs": [],
   "source": [
    "urls = [\n",
    "    \"https://langchain-ai.github.io/langgraph/\",\n",
    "    \"https://namastedev.com/blog/organizing-tasks-with-trello-boards-2/\",\n",
    "    \"https://namastedev.com/blog/introduction-to-backtracking/\"\n",
    "]\n",
    "\n",
    "docs=[WebBaseLoader(urls).load() for url in urls]"
   ]
  },
  {
   "cell_type": "code",
   "execution_count": 33,
   "id": "f68a0aac",
   "metadata": {},
   "outputs": [],
   "source": [
    "doc_list=[item for sublist in docs for item in sublist]\n",
    "\n",
    "text_splitter = RecursiveCharacterTextSplitter(chunk_size=1000,chunk_overlap=100)\n",
    "docs_splits=text_splitter.split_documents(doc_list)"
   ]
  },
  {
   "cell_type": "code",
   "execution_count": 39,
   "id": "c7b135c9",
   "metadata": {},
   "outputs": [],
   "source": [
    "vectorstore = FAISS.from_documents(\n",
    "    documents=docs_splits,\n",
    "    embedding=OpenAIEmbeddings()\n",
    ")\n",
    "\n",
    "retriever = vectorstore.as_retriever()"
   ]
  },
  {
   "cell_type": "code",
   "execution_count": 40,
   "id": "81536238",
   "metadata": {},
   "outputs": [
    {
     "data": {
      "text/plain": [
       "[Document(id='3094a05b-8d7c-44a1-b176-dd32f56ceeef', metadata={'source': 'https://langchain-ai.github.io/langgraph/', 'title': 'LangGraph', 'description': 'Build reliable, stateful AI systems, without giving up control', 'language': 'en'}, page_content='Durable execution: Build agents that persist through failures and can run for extended periods, automatically resuming from exactly where they left off.\\nHuman-in-the-loop: Seamlessly incorporate human oversight by inspecting and modifying agent state at any point during execution.\\nComprehensive memory: Create truly stateful agents with both short-term working memory for ongoing reasoning and long-term persistent memory across sessions.\\nDebugging with LangSmith: Gain deep visibility into complex agent behavior with visualization tools that trace execution paths, capture state transitions, and provide detailed runtime metrics.\\nProduction-ready deployment: Deploy sophisticated agent systems confidently with scalable infrastructure designed to handle the unique challenges of stateful, long-running workflows.'),\n",
       " Document(id='b3b88ae9-4770-40e4-90ab-a3abcadde378', metadata={'source': 'https://langchain-ai.github.io/langgraph/', 'title': 'LangGraph', 'description': 'Build reliable, stateful AI systems, without giving up control', 'language': 'en'}, page_content='Durable execution: Build agents that persist through failures and can run for extended periods, automatically resuming from exactly where they left off.\\nHuman-in-the-loop: Seamlessly incorporate human oversight by inspecting and modifying agent state at any point during execution.\\nComprehensive memory: Create truly stateful agents with both short-term working memory for ongoing reasoning and long-term persistent memory across sessions.\\nDebugging with LangSmith: Gain deep visibility into complex agent behavior with visualization tools that trace execution paths, capture state transitions, and provide detailed runtime metrics.\\nProduction-ready deployment: Deploy sophisticated agent systems confidently with scalable infrastructure designed to handle the unique challenges of stateful, long-running workflows.'),\n",
       " Document(id='43b7bec0-af4d-4344-b6ff-42b4dcb3dad0', metadata={'source': 'https://langchain-ai.github.io/langgraph/', 'title': 'LangGraph', 'description': 'Build reliable, stateful AI systems, without giving up control', 'language': 'en'}, page_content='Durable execution: Build agents that persist through failures and can run for extended periods, automatically resuming from exactly where they left off.\\nHuman-in-the-loop: Seamlessly incorporate human oversight by inspecting and modifying agent state at any point during execution.\\nComprehensive memory: Create truly stateful agents with both short-term working memory for ongoing reasoning and long-term persistent memory across sessions.\\nDebugging with LangSmith: Gain deep visibility into complex agent behavior with visualization tools that trace execution paths, capture state transitions, and provide detailed runtime metrics.\\nProduction-ready deployment: Deploy sophisticated agent systems confidently with scalable infrastructure designed to handle the unique challenges of stateful, long-running workflows.'),\n",
       " Document(id='b76be16f-cedf-4413-a595-7e1c17b9364b', metadata={'source': 'https://langchain-ai.github.io/langgraph/', 'title': 'LangGraph', 'description': 'Build reliable, stateful AI systems, without giving up control', 'language': 'en'}, page_content='LangGraph\\n\\n\\n\\n\\n\\n\\n\\n\\n\\n\\n\\n\\n\\n\\n\\n\\n\\n\\n\\n\\n\\n\\n\\n\\n\\n\\n\\n          Skip to content\\n        \\n\\n\\n\\n\\n\\n\\n\\n            \\n            \\nOur new LangChain Academy Course Deep Research with LangGraph is now live! Enroll for free.\\n\\n          \\n\\n\\n\\n\\n\\n\\n\\n\\n\\n\\n\\n\\n\\n\\n\\n\\n            LangGraph\\n          \\n\\n\\n\\n            \\n              LangGraph\\n            \\n          \\n\\n\\n\\n\\n\\n\\n\\n\\n\\n\\n\\n\\n\\n\\n\\n\\n\\n\\n\\n\\n\\n\\n\\n\\n\\n\\n\\n\\n\\n\\n\\n\\n\\n\\n\\n\\n\\n\\n\\n\\n            Initializing search\\n          \\n\\n\\n\\n\\n\\n\\n\\n\\n\\n\\n\\n\\n    GitHub\\n  \\n\\n\\n\\n\\n\\n\\n\\n\\n\\n\\n          \\n  \\n  \\n    \\n  \\n  Get started\\n\\n        \\n\\n\\n\\n          \\n  \\n  \\n    \\n  \\n  Guides\\n\\n        \\n\\n\\n\\n          \\n  \\n  \\n    \\n  \\n  Reference\\n\\n        \\n\\n\\n\\n          \\n  \\n  \\n    \\n  \\n  Examples\\n\\n        \\n\\n\\n\\n          \\n  \\n  \\n    \\n  \\n  Additional resources\\n\\n        \\n\\n\\n\\n\\n\\n\\n\\n\\n\\n\\n\\n\\n\\n\\n\\n    LangGraph\\n  \\n\\n\\n\\n\\n\\n\\n    GitHub\\n  \\n\\n\\n\\n\\n\\n\\n\\n\\n    Get started\\n    \\n  \\n\\n\\n\\n\\n\\n\\n\\n\\n            Get started\\n          \\n\\n\\n\\n\\n\\n    Quickstarts\\n    \\n  \\n\\n\\n\\n\\n\\n            Quickstarts\\n          \\n\\n\\n\\n\\n    Start with a prebuilt agent\\n    \\n  \\n\\n\\n\\n\\n\\n    Build a custom workflow')]"
      ]
     },
     "execution_count": 40,
     "metadata": {},
     "output_type": "execute_result"
    }
   ],
   "source": [
    "retriever.invoke(\"What is backtracking?\")"
   ]
  },
  {
   "cell_type": "code",
   "execution_count": 41,
   "id": "c5949dfc",
   "metadata": {},
   "outputs": [],
   "source": [
    "## retriever --> Retriever tools\n",
    "\n",
    "from langchain.tools.retriever import create_retriever_tool\n",
    "\n",
    "retriever_tool = create_retriever_tool(\n",
    "    retriever,\n",
    "    \"retriever_vector_db_blog\",\n",
    "    \"serch and run information about langgraph\"\n",
    ")"
   ]
  },
  {
   "cell_type": "code",
   "execution_count": null,
   "id": "389c5104",
   "metadata": {},
   "outputs": [],
   "source": [
    "tools = [retriever_tool]"
   ]
  }
 ],
 "metadata": {
  "kernelspec": {
   "display_name": "AgenticAi",
   "language": "python",
   "name": "python3"
  },
  "language_info": {
   "codemirror_mode": {
    "name": "ipython",
    "version": 3
   },
   "file_extension": ".py",
   "mimetype": "text/x-python",
   "name": "python",
   "nbconvert_exporter": "python",
   "pygments_lexer": "ipython3",
   "version": "3.13.5"
  }
 },
 "nbformat": 4,
 "nbformat_minor": 5
}
