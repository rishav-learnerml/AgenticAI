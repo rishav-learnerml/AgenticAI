{
 "cells": [
  {
   "cell_type": "markdown",
   "id": "9bcff916",
   "metadata": {},
   "source": [
    "## Building a chatbot with multiple tools using langgraph\""
   ]
  },
  {
   "cell_type": "code",
   "execution_count": 2,
   "id": "3ad9007c",
   "metadata": {},
   "outputs": [],
   "source": [
    "from langchain_community.tools import ArxivQueryRun, WikipediaQueryRun\n",
    "from langchain_community.utilities import WikipediaAPIWrapper, ArxivAPIWrapper"
   ]
  },
  {
   "cell_type": "code",
   "execution_count": 3,
   "id": "080cd6bd",
   "metadata": {},
   "outputs": [
    {
     "name": "stdout",
     "output_type": "stream",
     "text": [
      "arxiv\n"
     ]
    }
   ],
   "source": [
    "api_wrapper_arxiv=ArxivAPIWrapper(top_k_results=2,doc_content_chars_max=500)\n",
    "arxiv=ArxivQueryRun(api_wrapper=api_wrapper_arxiv)\n",
    "print(arxiv.name)"
   ]
  },
  {
   "cell_type": "code",
   "execution_count": 4,
   "id": "cd1743a5",
   "metadata": {},
   "outputs": [
    {
     "data": {
      "text/plain": [
       "\"Published: 2024-07-22\\nTitle: Attention Is All You Need But You Don't Need All Of It For Inference of Large Language Models\\nAuthors: Georgy Tyukin, Gbetondji J-S Dovonon, Jean Kaddour, Pasquale Minervini\\nSummary: The inference demand for LLMs has skyrocketed in recent months, and serving\\nmodels with low latencies remains challenging due to the quadratic input length\\ncomplexity of the attention layers. In this work, we investigate the effect of\\ndropping MLP and attention layers at inference time o\""
      ]
     },
     "execution_count": 4,
     "metadata": {},
     "output_type": "execute_result"
    }
   ],
   "source": [
    "arxiv.invoke('Attention is all you need')"
   ]
  },
  {
   "cell_type": "code",
   "execution_count": 5,
   "id": "129aca74",
   "metadata": {},
   "outputs": [
    {
     "data": {
      "text/plain": [
       "'wikipedia'"
      ]
     },
     "execution_count": 5,
     "metadata": {},
     "output_type": "execute_result"
    }
   ],
   "source": [
    "api_wrapper_wiki=WikipediaAPIWrapper(top_k_results=1,doc_content_chars_max=500)\n",
    "wiki=WikipediaQueryRun(api_wrapper=api_wrapper_wiki)\n",
    "wiki.name"
   ]
  },
  {
   "cell_type": "code",
   "execution_count": 6,
   "id": "305f5d01",
   "metadata": {},
   "outputs": [
    {
     "data": {
      "text/plain": [
       "'Page: Machine learning\\nSummary: Machine learning (ML) is a field of study in artificial intelligence concerned with the development and study of statistical algorithms that can learn from data and generalise to unseen data, and thus perform tasks without explicit instructions. Within a subdiscipline in machine learning, advances in the field of deep learning have allowed neural networks, a class of statistical algorithms, to surpass many previous machine learning approaches in performance.\\nML fi'"
      ]
     },
     "execution_count": 6,
     "metadata": {},
     "output_type": "execute_result"
    }
   ],
   "source": [
    "wiki.invoke('What is machine learning?')"
   ]
  },
  {
   "cell_type": "code",
   "execution_count": 7,
   "id": "3c416145",
   "metadata": {},
   "outputs": [],
   "source": [
    "from dotenv import load_dotenv\n",
    "load_dotenv()\n",
    "\n",
    "import os\n",
    "\n",
    "os.environ['TAVILY_API_KEY']=os.getenv('TAVILY_API_KEY')\n",
    "os.environ['GROQ_API_KEY']=os.getenv('GROQ_API_KEY')\n",
    "os.environ['HUGGINGFACEHUB_API_TOKEN']=os.getenv('HF_TOKEN')\n",
    "os.environ['OPENAI_API_KEY']=os.getenv('OPENAI_API_KEY')"
   ]
  },
  {
   "cell_type": "code",
   "execution_count": 8,
   "id": "eb557865",
   "metadata": {},
   "outputs": [],
   "source": [
    "from langchain_tavily import TavilySearch\n",
    "\n",
    "travily = TavilySearch(\n",
    "    max_results=5,\n",
    "    topic=\"general\",\n",
    "    # include_answer=False,\n",
    "    # include_raw_content=False,\n",
    "    # include_images=False,\n",
    "    # include_image_descriptions=False,\n",
    "    # search_depth=\"basic\",\n",
    "    # time_range=\"day\",\n",
    "    # include_domains=None,\n",
    "    # exclude_domains=None\n",
    ")"
   ]
  },
  {
   "cell_type": "code",
   "execution_count": 9,
   "id": "33b0327f",
   "metadata": {},
   "outputs": [
    {
     "data": {
      "text/plain": [
       "{'query': 'provide me the mostv recent ai news for 14 August 2025',\n",
       " 'follow_up_questions': None,\n",
       " 'answer': None,\n",
       " 'images': [],\n",
       " 'results': [{'url': 'https://dwealth.news/2025/08/ai-intelligence-weekly-top-10-8-14-25/',\n",
       "   'title': 'AI INTELLIGENCE | Weekly Top 10 (8/14/25) - Dwealth.news',\n",
       "   'content': 'Viral AI stories this week: USAi launch, Illinois AI therapy ban, GPT-5 price shake-up, and a viral Reddit engagement to an AI chatbot.',\n",
       "   'score': 0.83452857,\n",
       "   'raw_content': None},\n",
       "  {'url': 'https://www.youtube.com/watch?v=L0bc1_TPVm4',\n",
       "   'title': 'Thu Aug 14, 2025 - Humanity Survival Based on \"Motherly\" AI & GPT ...',\n",
       "   'content': 'AI News: Thu Aug 14, 2025 - Humanity Survival Based on \"Motherly\" AI & GPT-5 Reasoning \"Juice\". 43 views · 17 hours ago ...more',\n",
       "   'score': 0.7837407,\n",
       "   'raw_content': None},\n",
       "  {'url': 'https://www.linkedin.com/pulse/ai-news-highlights-from-14th-august-2025-grok-ai-jhmse',\n",
       "   'title': 'AI News Highlights from 14th of August, 2025 - LinkedIn',\n",
       "   'content': 'AI News Highlights from 14th of August, 2025 · Grok · Headlines & Launches · Deep Dives & Analysis · Engineering & Research · ⚡ Quick Links · AI',\n",
       "   'score': 0.7823471,\n",
       "   'raw_content': None},\n",
       "  {'url': 'https://ts2.tech/en/ai-frenzy-billion-dollar-bets-self-learning-breakthroughs-legal-showdowns-global-ai-roundup-aug-13-14-2025/',\n",
       "   'title': 'AI Frenzy: Billion-Dollar Bets, Self-Learning Breakthroughs & Legal ...',\n",
       "   'content': 'AI Frenzy: Billion-Dollar Bets, Self-Learning Breakthroughs & Legal Showdowns – Global AI Roundup (Aug 13–14, 2025) - TS2 Space.',\n",
       "   'score': 0.7092009,\n",
       "   'raw_content': None},\n",
       "  {'url': 'https://www.youtube.com/watch?v=zHZFMk_eFJk',\n",
       "   'title': 'AI Today in 5: August 14, 2025, The Putting the Human in AI Episode',\n",
       "   'content': 'AI Today in 5: August 14, 2025, The Putting the Human in AI Episode · Comments.',\n",
       "   'score': 0.6864757,\n",
       "   'raw_content': None}],\n",
       " 'response_time': 3.01,\n",
       " 'request_id': '83248770-94d7-4dd7-90c1-b7879df3a16e'}"
      ]
     },
     "execution_count": 9,
     "metadata": {},
     "output_type": "execute_result"
    }
   ],
   "source": [
    "travily.invoke('provide me the mostv recent ai news for 14 August 2025')"
   ]
  },
  {
   "cell_type": "code",
   "execution_count": 10,
   "id": "3b4c59a6",
   "metadata": {},
   "outputs": [],
   "source": [
    "### Combine all tools in a list\n",
    "\n",
    "tools=[arxiv,wiki,travily]\n",
    "\n",
    "### Initialize llm model\n",
    "\n",
    "from langchain_groq import ChatGroq\n",
    "\n",
    "llm=ChatGroq(model='qwen/qwen3-32b')\n",
    "\n",
    "llm_with_tools=llm.bind_tools(tools)"
   ]
  },
  {
   "cell_type": "code",
   "execution_count": 11,
   "id": "50fafcb8",
   "metadata": {},
   "outputs": [
    {
     "data": {
      "text/plain": [
       "AIMessage(content='', additional_kwargs={'reasoning_content': 'Okay, the user is asking for recent AI news. Let me figure out which tool to use. The available tools are arxiv, wikipedia, and tavily_search. Arxiv is for academic papers, wikipedia for general knowledge, and tavily_search for current events. Since the user wants recent news, tavily_search is the best choice.\\n\\nNow, looking at the parameters for tavily_search. The user wants recent AI news, so I should set the time_range to \"week\" to get the latest updates from the past week. The topic should be \"news\" because it\\'s about current events. The query is \"AI News\". I don\\'t need to exclude or include specific domains unless the user specified, which they didn\\'t. So, the parameters would be query: \"AI News\", time_range: \"week\", topic: \"news\". The other parameters can stay as default. Let me make sure the JSON is correctly formatted.\\n', 'tool_calls': [{'id': 'b88xnjqsx', 'function': {'arguments': '{\"query\":\"AI News\",\"time_range\":\"week\",\"topic\":\"news\"}', 'name': 'tavily_search'}, 'type': 'function'}]}, response_metadata={'token_usage': {'completion_tokens': 230, 'prompt_tokens': 2037, 'total_tokens': 2267, 'completion_time': 0.468337656, 'prompt_time': 0.110968791, 'queue_time': 5.248434989, 'total_time': 0.579306447}, 'model_name': 'qwen/qwen3-32b', 'system_fingerprint': 'fp_228bd8fb0d', 'service_tier': 'on_demand', 'finish_reason': 'tool_calls', 'logprobs': None}, id='run--a6d6954b-ea93-4539-a5d3-595f7193f888-0', tool_calls=[{'name': 'tavily_search', 'args': {'query': 'AI News', 'time_range': 'week', 'topic': 'news'}, 'id': 'b88xnjqsx', 'type': 'tool_call'}], usage_metadata={'input_tokens': 2037, 'output_tokens': 230, 'total_tokens': 2267})"
      ]
     },
     "execution_count": 11,
     "metadata": {},
     "output_type": "execute_result"
    }
   ],
   "source": [
    "from langchain_core.messages import HumanMessage,AIMessage\n",
    "\n",
    "llm_with_tools.invoke([HumanMessage(content=f\"What is the recent AI News\")])"
   ]
  },
  {
   "cell_type": "code",
   "execution_count": 12,
   "id": "7f72bc6d",
   "metadata": {},
   "outputs": [],
   "source": [
    "## State Schema\n",
    "from typing_extensions import TypedDict\n",
    "from langchain_core.messages import AnyMessage\n",
    "from typing import Annotated\n",
    "from langgraph.graph.message import add_messages\n",
    "\n",
    "class State(TypedDict):\n",
    "    messages:Annotated[list[AnyMessage],add_messages]"
   ]
  },
  {
   "cell_type": "code",
   "execution_count": 13,
   "id": "ceb45178",
   "metadata": {},
   "outputs": [
    {
     "data": {
      "image/png": "[encoded data removed]",
      "text/plain": [
       "<IPython.core.display.Image object>"
      ]
     },
     "metadata": {},
     "output_type": "display_data"
    }
   ],
   "source": [
    "## Entire chatbot with Langgraph\n",
    "\n",
    "from IPython.display import Image, display\n",
    "from langgraph.graph import StateGraph, START,END\n",
    "from langgraph.prebuilt import ToolNode\n",
    "from langgraph.prebuilt import tools_condition\n",
    "\n",
    "## Node defination\n",
    "def tool_calling_llm(state:State):\n",
    "    return {\"messages\":[llm_with_tools.invoke(state[\"messages\"])]}\n",
    "\n",
    "# build graph\n",
    "builder=StateGraph(State)\n",
    "builder.add_node('tool_calling_llm',tool_calling_llm)\n",
    "builder.add_node('tools',ToolNode(tools))\n",
    "\n",
    "builder.add_edge(START,'tool_calling_llm')\n",
    "builder.add_conditional_edges('tool_calling_llm',tools_condition)\n",
    "\n",
    "builder.add_edge('tools',END)\n",
    "\n",
    "graph=builder.compile()\n",
    "\n",
    "display(Image(graph.get_graph().draw_mermaid_png()))"
   ]
  },
  {
   "cell_type": "code",
   "execution_count": 14,
   "id": "92f8ad60",
   "metadata": {},
   "outputs": [
    {
     "name": "stdout",
     "output_type": "stream",
     "text": [
      "================================\u001b[1m Human Message \u001b[0m=================================\n",
      "\n",
      "What is attention is all you need?\n",
      "==================================\u001b[1m Ai Message \u001b[0m==================================\n",
      "Tool Calls:\n",
      "  arxiv (mhn7a6chs)\n",
      " Call ID: mhn7a6chs\n",
      "  Args:\n",
      "    query: Attention is All You Need\n",
      "=================================\u001b[1m Tool Message \u001b[0m=================================\n",
      "Name: arxiv\n",
      "\n",
      "Published: 2024-07-22\n",
      "Title: Attention Is All You Need But You Don't Need All Of It For Inference of Large Language Models\n",
      "Authors: Georgy Tyukin, Gbetondji J-S Dovonon, Jean Kaddour, Pasquale Minervini\n",
      "Summary: The inference demand for LLMs has skyrocketed in recent months, and serving\n",
      "models with low latencies remains challenging due to the quadratic input length\n",
      "complexity of the attention layers. In this work, we investigate the effect of\n",
      "dropping MLP and attention layers at inference time o\n"
     ]
    }
   ],
   "source": [
    "\n",
    "messages=graph.invoke({\"messages\":\"What is attention is all you need?\"})\n",
    "for message in messages['messages']:\n",
    "    message.pretty_print()"
   ]
  },
  {
   "cell_type": "markdown",
   "id": "cba2dfab",
   "metadata": {},
   "source": [
    "## React Agent Architecture in LangGraph\n",
    "\n",
    "1. act = The model calls the specific tools\n",
    "2. observe = Passes the output back to the model\n",
    "3. reason = Based on the output response of the tool, the model will decide what to do in the next step --> smart agents"
   ]
  },
  {
   "cell_type": "code",
   "execution_count": 15,
   "id": "d1af8311",
   "metadata": {},
   "outputs": [],
   "source": [
    "os.environ['LANGCHAIN_API_KEY']=os.getenv('LANGCHAIN_API_KEY')\n",
    "os.environ['LANGCHAIN_TRACING_V2']='true'\n",
    "os.environ['LANGCHAIN_PROJECT']=os.getenv('LANGCHAIN_PROJECT')"
   ]
  },
  {
   "cell_type": "code",
   "execution_count": 16,
   "id": "ef4d2ec8",
   "metadata": {},
   "outputs": [],
   "source": [
    "## Custom functions --> tools\n",
    "\n",
    "def multiply(a: int,b: int)->int:\n",
    "    \"\"\"\n",
    "    Multiply a and b.\n",
    "\n",
    "    Args:\n",
    "        a: first int\n",
    "        b: second int\n",
    "    \"\"\"\n",
    "    return a * b\n",
    "\n",
    "def add(a: int,b: int)->int:\n",
    "    \"\"\"\n",
    "    Add a and b.\n",
    "\n",
    "    Args:\n",
    "        a: first int\n",
    "        b: second int\n",
    "    \"\"\"\n",
    "    return a + b\n",
    "\n",
    "def subtract(a: int,b: int)->int:\n",
    "    \"\"\"\n",
    "    Subtract a and b.\n",
    "\n",
    "    Args:\n",
    "        a: first int\n",
    "        b: second int\n",
    "    \"\"\"\n",
    "    return a - b\n",
    "\n",
    "def divide(a: int,b: int)->int:\n",
    "    \"\"\"\n",
    "    Divide a and b.\n",
    "\n",
    "    Args:\n",
    "        a: first int\n",
    "        b: second int\n",
    "    \"\"\"\n",
    "    return a // b"
   ]
  },
  {
   "cell_type": "code",
   "execution_count": 17,
   "id": "e840d201",
   "metadata": {},
   "outputs": [
    {
     "name": "stderr",
     "output_type": "stream",
     "text": [
      "/var/folders/ly/spbnwbv12839h6wrzlnkytf00000gn/T/ipykernel_21297/2492452247.py:5: LangChainDeprecationWarning: The class `TavilySearchResults` was deprecated in LangChain 0.3.25 and will be removed in 1.0. An updated version of the class exists in the :class:`~langchain-tavily package and should be used instead. To use it run `pip install -U :class:`~langchain-tavily` and import as `from :class:`~langchain_tavily import TavilySearch``.\n",
      "  tavily = TavilySearchResults()\n"
     ]
    }
   ],
   "source": [
    "## Travily search tool\n",
    "\n",
    "from langchain_community.tools.tavily_search import TavilySearchResults\n",
    "\n",
    "tavily = TavilySearchResults()"
   ]
  },
  {
   "cell_type": "code",
   "execution_count": 18,
   "id": "f128d8c7",
   "metadata": {},
   "outputs": [
    {
     "data": {
      "text/plain": [
       "[{'title': 'Independence Day highlights: PM Modi pitches for GST reforms',\n",
       "  'url': 'https://www.thehindu.com/news/national/india-indepdence-day-2025-live-updates-on-august-15-pm-modi-speech/article69935688.ece',\n",
       "  'content': 'Prime Minister Narendra Modi on Friday (August 15, 2025) announced a project to develop an indigenous air-defence system to protect India’s vital military and civilian installations and deliver a decisive response to any enemy threat, a move that came amid concerns over security challenges emanating from Pakistan and China. [...] Prime Minister Narendra Modi on Friday (August 15, 2025) announced a National Deep Water Exploration Mission aimed at discovering oil and gas reserves beneath the seabed, as part of efforts to boost domestic production and reduce the country’s multi-billion-dollar import bill. [...] ## On the Indus Waters Treaty, the Prime Minister said it had caused enormous harm to agriculture in India. He said the attack in Pahalgam underscored the futility of continuing the agreement\\n\\nUpdated  - August 15, 2025 09:55 pm IST\\n\\nPrime Minister Narendra Modi after hoisting the national flag during the 79th Independence Day celebration at the Red Fort, in New Delhi, on August 15, 2025.',\n",
       "  'score': 0.8652358},\n",
       " {'title': \"What were the key announcements in PM Modi's ...\",\n",
       "  'url': 'https://www.thehindu.com/news/national/what-were-the-key-announcements-in-pm-modis-independence-day-2025-speech/article69935897.ece',\n",
       "  'content': 'Published - August 15, 2025 11:18 am IST\\n\\nPrime Minister Narendra Modi being accorded a Guard of Honour during the 79th Independence Day celebration at the Red Fort, in New Delhi, Friday, Aug. 15, 2025.\\n\\nPrime Minister Narendra Modi being accorded a Guard of Honour during the 79th Independence Day celebration at the Red Fort, in New Delhi, Friday, Aug. 15, 2025.\\n| Photo Credit: - [...] Prime Minister Narendra Modi on Friday (August 15, 2025) delivered a 103-minute Independence Day speech from the ramparts of the Red Fort, the longest by any prime minister in India’s history. Mr. Modi broke his 98-minute record from the 78th Independence Day last year. [...] His longest Independence Day speech before 2024 was 96 minutes in 2016, while his shortest speech was in 2017 when he spoke for 56 minutes. On India’s 79th Independence Day, Mr. Modi also broke Indira Gandhi’s record by delivering 12 consecutive speeches from Red Fort to stand next only to Jawaharlal Nehru, who delivered 17 Independence Day addresses in a row.\\n\\nPublished - August 15, 2025 11:18 am IST\\n\\n### Related Topics\\n\\nIndia\\n\\n### Top News Today\\n\\nReturn to frontpage\\nGoogle Play\\nApple Store',\n",
       "  'score': 0.8437023},\n",
       " {'title': 'Independence Day 2025: Is it 78th or 79th I-Day this year? ...',\n",
       "  'url': 'https://www.hindustantimes.com/lifestyle/festivals/independence-day-2025-is-it-78th-79th-independence-day-this-year-know-theme-august-15-2025-significance-celebration-101755068612976.html',\n",
       "  'content': 'Independence Day 2025: India marks its Independence Day, or Swatantrata Diwas, every year on August 15. In 2025, it falls on a Friday. The day commemorates India\\'s freedom from over 200 years of British colonial rule on August 15, 1947.\\n\\nSecurity personnel stand guard at the Red Fort before commemorations begin for India\\'s Independence day, in New Delhi, India, Friday, Aug. 15, 2025.(AP)\") [...] Search\\nHindustan Times News\\nIndia Flag\\nIndia Flag\\nUS Flag\\nSign In\\nMy Account\\ncrown-icon\\n\\nSubscribe Now! Get features like\\n\\nad-free-icon\\npremium-icon-1\\nquick-read-icon-1\\nepaper-icon-1\\nsub-popup-img\\nCricket in L1\\nHT100 in L1\\n\\n# Independence Day 2025: Is it 78th or 79th I-Day this year? Check Independence Day 2025 theme, August 15 celebrations\\n\\n## Independence Day 2025: In 2025, will India is celebrating its 79th or 78th Independence Day on August 15 to mark freedom from British rule in 1947? [...] The official Independence Day programme begins with the presentation of a Guard of Honour by the Armed Forces and the Delhi Police to the Prime Minister. It is followed by the unfurling of the tricolour, accompanied by the National Anthem and the 21-gun salute. Helicopters of the Indian Air Force will shower flower petals over Red Fort. Prime Minister Narendra Modi also delivers his Independence Day address.',\n",
       "  'score': 0.78014404},\n",
       " {'title': 'Independence Day 2025: Theme, Special Guest, Program List and ...',\n",
       "  'url': 'https://www.jagranjosh.com/general-knowledge/independence-day-2025-theme-special-guest-program-list-and-other-details-1820001468-1',\n",
       "  'content': '## Comments\\n\\n#### All Comments (0)\\n\\ncomment\\n\\n## Join the conversation\\n\\nuser\\ncomment send\\nemoji\\n\\n# Independence Day 2025: Theme, Special Guest, Program List and Other Details\\n\\n## Independence Day 2025: Celebrate India’s 79th Independence Day 2025 on August 15 with patriotic pride and fervor. Learn about the history, theme, guest list, and full program of the Red Fort celebrations honoring India’s freedom fighters. [...] Independence Day, which is celebrated nationwide with formal ceremonies and patriotic fervor, is acknowledged as a national holiday. The Prime Minister raises the national flag at Delhi\\'s Red Fort to start the day, and then he gives a speech to the country.\\n\\n## Independence Day 2025 Theme\\n\\nOn Wednesday, the national government finally declared that the theme for the 79th Independence Day celebrations on August 15 would be \"Naya Bharat.\" [...] The Independence Day celebration of India will consist of the following programs, and that too in the same order:\\n\\nA Guard of Honour is presented to Prime Minister Narendra Modi by the Delhi Police and Armed Forces to start the ceremony at the Red Fort.\\n\\nNext comes the unfurling of the National Flag, singing of the National Anthem, and a 21-Gun Salute.',\n",
       "  'score': 0.683948},\n",
       " {'title': 'PM Modi Live from the Red Fort | 15 August 2025 Live - YouTube',\n",
       "  'url': 'https://www.youtube.com/watch?v=erXVToqgxSA',\n",
       "  'content': 'PM Modi 15 August Speech 2025 Live: As India celebrates its 79th Independence Day, Prime Minister Narendra Modi addresses the nation from',\n",
       "  'score': 0.64047897}]"
      ]
     },
     "execution_count": 18,
     "metadata": {},
     "output_type": "execute_result"
    }
   ],
   "source": [
    "tavily.invoke(\"Provide me the latest news on Independence day today -  15'th Aug, 2025\")"
   ]
  },
  {
   "cell_type": "code",
   "execution_count": 19,
   "id": "28e232a3",
   "metadata": {},
   "outputs": [],
   "source": [
    "tools=[tavily,arxiv,wiki,add,multiply,subtract,divide]\n"
   ]
  },
  {
   "cell_type": "code",
   "execution_count": 20,
   "id": "42054944",
   "metadata": {},
   "outputs": [],
   "source": [
    "llm_with_tools=llm.bind_tools(tools)"
   ]
  },
  {
   "cell_type": "code",
   "execution_count": 21,
   "id": "18eda8a1",
   "metadata": {},
   "outputs": [
    {
     "data": {
      "text/plain": [
       "[{'name': 'tavily_search_results_json',\n",
       "  'args': {'query': 'latest news on Independence day 15 Aug 2025'},\n",
       "  'id': 'rp9s6dajw',\n",
       "  'type': 'tool_call'},\n",
       " {'name': 'add',\n",
       "  'args': {'a': 2, 'b': 2},\n",
       "  'id': 'qvrd3qgac',\n",
       "  'type': 'tool_call'}]"
      ]
     },
     "execution_count": 21,
     "metadata": {},
     "output_type": "execute_result"
    }
   ],
   "source": [
    "from pprint import pprint\n",
    "\n",
    "from langchain_core.messages import AIMessage,HumanMessage\n",
    "\n",
    "llm_with_tools.invoke([HumanMessage(content=f\"Provide me the latest news on Independence day today -  15'th Aug, 2025. Also after that give me the result of 2 plus 2 multiply by 6 divided by 3. subtract 5 from it\")]).tool_calls\n"
   ]
  },
  {
   "cell_type": "code",
   "execution_count": 22,
   "id": "855d60bb",
   "metadata": {},
   "outputs": [],
   "source": [
    "from typing_extensions import TypedDict\n",
    "from langchain_core.messages import AnyMessage\n",
    "from langgraph.graph.message import add_messages\n",
    "from typing import Annotated\n",
    "\n",
    "class State(TypedDict):\n",
    "    messages:Annotated[list[AnyMessage],add_messages]"
   ]
  },
  {
   "cell_type": "code",
   "execution_count": 23,
   "id": "e33f7b35",
   "metadata": {},
   "outputs": [],
   "source": [
    "## chatbot node functionality\n",
    "\n",
    "def llm_tool(state:State):\n",
    "    return {\"messages\":[llm_with_tools.invoke(state[\"messages\"])]}\n",
    "\n"
   ]
  },
  {
   "cell_type": "code",
   "execution_count": 24,
   "id": "787b3407",
   "metadata": {},
   "outputs": [
    {
     "data": {
      "image/png": "[encoded data removed]",
      "text/plain": [
       "<IPython.core.display.Image object>"
      ]
     },
     "metadata": {},
     "output_type": "display_data"
    }
   ],
   "source": [
    "from IPython.display import Image,display\n",
    "from langgraph.graph import StateGraph, START, END\n",
    "\n",
    "builder=StateGraph(State)\n",
    "\n",
    "builder.add_node(\"tool_calling_llm\",tool_calling_llm)\n",
    "builder.add_node(\"tools\",ToolNode(tools))\n",
    "\n",
    "builder.add_edge(START,'tool_calling_llm')\n",
    "builder.add_conditional_edges('tool_calling_llm',tools_condition)\n",
    "builder.add_edge('tools','tool_calling_llm')\n",
    "\n",
    "\n",
    "graph=builder.compile()\n",
    "display(Image(graph.get_graph().draw_mermaid_png()))"
   ]
  },
  {
   "cell_type": "code",
   "execution_count": 25,
   "id": "916d0a6b",
   "metadata": {},
   "outputs": [
    {
     "name": "stdout",
     "output_type": "stream",
     "text": [
      "================================\u001b[1m Human Message \u001b[0m=================================\n",
      "\n",
      "Provide me the latest news on Independence day today -  15'th Aug, 2025. Also after that give me the result of 2 plus 2 multiply by 6 divided by 3. subtract 5 from it\n",
      "==================================\u001b[1m Ai Message \u001b[0m==================================\n",
      "Tool Calls:\n",
      "  tavily_search_results_json (ydmvtg5wt)\n",
      " Call ID: ydmvtg5wt\n",
      "  Args:\n",
      "    query: latest news on Independence Day 15th August 2025\n",
      "  add (4d652bskc)\n",
      " Call ID: 4d652bskc\n",
      "  Args:\n",
      "    a: 2\n",
      "    b: 2\n",
      "  multiply (bfwbztb0e)\n",
      " Call ID: bfwbztb0e\n",
      "  Args:\n",
      "    a: 4\n",
      "    b: 6\n",
      "  divide (dzm3ta6ts)\n",
      " Call ID: dzm3ta6ts\n",
      "  Args:\n",
      "    a: 24\n",
      "    b: 3\n",
      "  subtract (v6fprey59)\n",
      " Call ID: v6fprey59\n",
      "  Args:\n",
      "    a: 8\n",
      "    b: 5\n",
      "=================================\u001b[1m Tool Message \u001b[0m=================================\n",
      "Name: tavily_search_results_json\n",
      "\n",
      "[{\"title\": \"What were the key announcements in PM Modi's Independence Day ...\", \"url\": \"https://www.thehindu.com/news/national/what-were-the-key-announcements-in-pm-modis-independence-day-2025-speech/article69935897.ece\", \"content\": \"Published - August 15, 2025 11:18 am IST\\n\\nPrime Minister Narendra Modi being accorded a Guard of Honour during the 79th Independence Day celebration at the Red Fort, in New Delhi, Friday, Aug. 15, 2025.\\n\\nPrime Minister Narendra Modi being accorded a Guard of Honour during the 79th Independence Day celebration at the Red Fort, in New Delhi, Friday, Aug. 15, 2025.\\n| Photo Credit: - [...] Prime Minister Narendra Modi on Friday (August 15, 2025) delivered a 103-minute Independence Day speech from the ramparts of the Red Fort, the longest by any prime minister in India’s history. Mr. Modi broke his 98-minute record from the 78th Independence Day last year. [...] His longest Independence Day speech before 2024 was 96 minutes in 2016, while his shortest speech was in 2017 when he spoke for 56 minutes. On India’s 79th Independence Day, Mr. Modi also broke Indira Gandhi’s record by delivering 12 consecutive speeches from Red Fort to stand next only to Jawaharlal Nehru, who delivered 17 Independence Day addresses in a row.\\n\\nPublished - August 15, 2025 11:18 am IST\\n\\n### Related Topics\\n\\nIndia\\n\\n### Top News Today\\n\\nReturn to frontpage\\nGoogle Play\\nApple Store\", \"score\": 0.86331123}, {\"title\": \"Independence Day 2025: Is it 78th or 79th I-Day this year? Check ...\", \"url\": \"https://www.hindustantimes.com/lifestyle/festivals/independence-day-2025-is-it-78th-79th-independence-day-this-year-know-theme-august-15-2025-significance-celebration-101755068612976.html\", \"content\": \"Independence Day 2025: India marks its Independence Day, or Swatantrata Diwas, every year on August 15. In 2025, it falls on a Friday. The day commemorates India's freedom from over 200 years of British colonial rule on August 15, 1947.\\n\\nSecurity personnel stand guard at the Red Fort before commemorations begin for India's Independence day, in New Delhi, India, Friday, Aug. 15, 2025.(AP)\\\") [...] Search\\nHindustan Times News\\nIndia Flag\\nIndia Flag\\nUS Flag\\nSign In\\nMy Account\\ncrown-icon\\n\\nSubscribe Now! Get features like\\n\\nad-free-icon\\npremium-icon-1\\nquick-read-icon-1\\nepaper-icon-1\\nsub-popup-img\\nCricket in L1\\nHT100 in L1\\n\\n# Independence Day 2025: Is it 78th or 79th I-Day this year? Check Independence Day 2025 theme, August 15 celebrations\\n\\n## Independence Day 2025: In 2025, will India is celebrating its 79th or 78th Independence Day on August 15 to mark freedom from British rule in 1947? [...] The official Independence Day programme begins with the presentation of a Guard of Honour by the Armed Forces and the Delhi Police to the Prime Minister. It is followed by the unfurling of the tricolour, accompanied by the National Anthem and the 21-gun salute. Helicopters of the Indian Air Force will shower flower petals over Red Fort. Prime Minister Narendra Modi also delivers his Independence Day address.\", \"score\": 0.7429634}, {\"title\": \"India's 79th Independence Day 2025 Highlights: PM Modi ...\", \"url\": \"https://indianexpress.com/article/india/79th-independence-day-2025-speech-flag-hoisting-quotes-live-updates-pm-narendra-modi-president-droupadi-murmu-speech-10188549/\", \"content\": \"India’s 79th Independence Day 2025 Highlights: Prime Minister Narendra Modi addressed the nation from Red Fort after hoisting the national flag on the occasion of Independence Day. During his speech, PM Modi spoke about India’s success during Operation Sindoor, farmers’ welfare and launched multiple schemes. One key announcement was the new GST reforms, set to kick in by Diwali and aimed at lowering the prices of daily-use commodities across the country. PM Modi also spoke about Mission [...] follow us on Facebook\\nfollow us on Twitter\\nfollow us on youtube\\nfollow us on Instagram\\nThe Indian Express logo\\n\\n# India’s 79th Independence Day 2025 Highlights: PM Modi announces new GST reforms by Diwali; to reduce tax on daily-use items\\n\\n## India's 79th Independence Day 2025 President Droupadi Murmu, PM Narendra Modi Speech Highlights: Prime Minister Narendra Modi addressed the nation from Red Fort, speaking about India's achievements in the past year. [...] the country was feeling over the Pahalgam terror attack in which terrorists from across the border carried out a gruesome massacre, killing people after asking their religion.\", \"score\": 0.6757865}, {\"title\": \"USCIS Celebrates Independence Day 2025 Welcoming Those Who ...\", \"url\": \"https://www.uscis.gov/newsroom/news-releases/uscis-celebrates-independence-day-2025-welcoming-those-who-earned-citizenship-the-right-way\", \"content\": \"### Additional Resources\\n\\n# USCIS Celebrates Independence Day 2025 Welcoming Those Who Earned Citizenship the Right Way\\n\\nWASHINGTON— U.S. Citizenship and Immigration Services is celebrating Independence Day by welcoming new citizens in naturalization ceremonies throughout the country. These ceremonies demonstrate our commitment to ensuring the naturalization process promotes a unified American identity and allegiance to the Constitution, laws, and founding principles of the United States. [...] Glenn A. Youngkin, governor of Virginia and the Honorable Jason S. Miyares, attorney general of Virginia, will deliver remarks at another naturalization ceremony. Additional Independence Day ceremonies will be held across the country, including Saguaro National Park in Arizona, the George H.W. Bush Presidential Library and Museum in Texas, and Thomas Jefferson’s Monticello in Virginia. [...] “USCIS is proud to welcome new citizens who made the right choice to lawfully immigrate, assimilate, and contribute to America’s greatness. Taking the Oath of Allegiance and embracing U.S. citizenship is a remarkable act of patriotism,” said USCIS Spokesman Matthew Tragesser. “During this time, we must also recognize the Trump administration’s successful termination of the Biden-era CHNV and Temporary Protected Status programs—programs that poured in millions of unvetted illegal aliens into our\", \"score\": 0.56431514}, {\"title\": \"Governor Newsom proclaims Independence Day 2025\", \"url\": \"https://www.gov.ca.gov/2025/07/04/governor-newsom-proclaims-independence-day-2025/\", \"content\": \"News What you need to know: According to a new report, incarcerated men who participate in the state’s community reentry programs are 34% less likely to reoffend than those who did not participate; women are 44% less likely to reoffend. Sacramento, California –...\\n\\n## With major heat in the forecast, California takes action to protect vulnerable communities – including with new CalHeatScore tool\\n\\nAug 20, 2025 [...] News What you need to know: Governor Newsom directed the state to continue taking actions ahead of extreme heat and fire weather conditions anticipated to impact much of California through the weekend. SACRAMENTO – Building off the state’s predeployment of...\\n\\n## Governor Newsom announces appointments 8.19.25\\n\\nAug 20, 2025 [...] Today and every day, California reaffirms our commitment to fully realizing our nation’s founding ideals, that all are created equal, with the rights to life, liberty, and the pursuit of happiness. We will never back down from the fight to protect freedom, we will protect the rights of all who call this country home, and we will never again allow this country and its people to be subject to a king or autocrat.\", \"score\": 0.5027105}]\n",
      "=================================\u001b[1m Tool Message \u001b[0m=================================\n",
      "Name: add\n",
      "\n",
      "4\n",
      "=================================\u001b[1m Tool Message \u001b[0m=================================\n",
      "Name: multiply\n",
      "\n",
      "24\n",
      "=================================\u001b[1m Tool Message \u001b[0m=================================\n",
      "Name: divide\n",
      "\n",
      "8\n",
      "=================================\u001b[1m Tool Message \u001b[0m=================================\n",
      "Name: subtract\n",
      "\n",
      "3\n",
      "==================================\u001b[1m Ai Message \u001b[0m==================================\n",
      "\n",
      "### Latest News on Independence Day 2025 (15th August 2025):  \n",
      "1. **PM Modi's Historic Speech**: Prime Minister Narendra Modi delivered a **103-minute speech** from the Red Fort, marking the **79th Independence Day**. This was the longest speech in India's history, surpassing his 2024 record. Key announcements included **GST reforms** aimed at reducing taxes on daily-use items by Diwali and addressing farmer welfare.  \n",
      "2. **Security and Celebrations**: The event featured a **Guard of Honour**, flag-hoisting, a 21-gun salute, and flower-petal showers by the Indian Air Force. Modi also highlighted India’s achievements, including **Operation Sindoor** (a military success).  \n",
      "3. **Terror Attack Mention**: The speech acknowledged the **Pahalgam terror attack** in Jammu and Kashmir, where terrorists killed civilians, emphasizing national security.  \n",
      "\n",
      "---\n",
      "\n",
      "### Result of the Math Problem:  \n",
      "**Calculation Steps**:  \n",
      "1. **2 + 2 = 4**  \n",
      "2. **4 × 6 = 24**  \n",
      "3. **24 ÷ 3 = 8**  \n",
      "4. **8 − 5 = 3**  \n",
      "\n",
      "**Final Answer**: **3**\n"
     ]
    }
   ],
   "source": [
    "messages=graph.invoke({\"messages\":HumanMessage(content=f\"Provide me the latest news on Independence day today -  15'th Aug, 2025. Also after that give me the result of 2 plus 2 multiply by 6 divided by 3. subtract 5 from it\")}) # type: ignore\n",
    "for message in messages['messages']:\n",
    "    message.pretty_print()"
   ]
  },
  {
   "cell_type": "markdown",
   "id": "4707b92d",
   "metadata": {},
   "source": [
    "## Agent with memory in LangGraph"
   ]
  },
  {
   "cell_type": "code",
   "execution_count": 26,
   "id": "71e5218c",
   "metadata": {},
   "outputs": [
    {
     "data": {
      "image/png": "[encoded data removed]",
      "text/plain": [
       "<IPython.core.display.Image object>"
      ]
     },
     "metadata": {},
     "output_type": "display_data"
    }
   ],
   "source": [
    "from langgraph.checkpoint.memory import MemorySaver\n",
    "memory=MemorySaver()\n",
    "graph_with_memory=builder.compile(checkpointer=memory) ## saved in memory\n",
    "\n",
    "display(Image(graph.get_graph().draw_mermaid_png()))"
   ]
  },
  {
   "cell_type": "code",
   "execution_count": 27,
   "id": "1e20aed5",
   "metadata": {},
   "outputs": [
    {
     "name": "stdout",
     "output_type": "stream",
     "text": [
      "================================\u001b[1m Human Message \u001b[0m=================================\n",
      "\n",
      "Provide me the latest news on Independence day today -  15'th Aug, 2025. Also after that give me the result of 2 plus 2 multiply by 6 divided by 3. subtract 5 from it\n",
      "==================================\u001b[1m Ai Message \u001b[0m==================================\n",
      "Tool Calls:\n",
      "  tavily_search_results_json (178npnbs9)\n",
      " Call ID: 178npnbs9\n",
      "  Args:\n",
      "    query: latest news on Independence Day 15th August 2025\n",
      "  add (sejghgzgs)\n",
      " Call ID: sejghgzgs\n",
      "  Args:\n",
      "    a: 2\n",
      "    b: 2\n",
      "=================================\u001b[1m Tool Message \u001b[0m=================================\n",
      "Name: tavily_search_results_json\n",
      "\n",
      "[{\"title\": \"What were the key announcements in PM Modi's Independence Day ...\", \"url\": \"https://www.thehindu.com/news/national/what-were-the-key-announcements-in-pm-modis-independence-day-2025-speech/article69935897.ece\", \"content\": \"Published - August 15, 2025 11:18 am IST\\n\\nPrime Minister Narendra Modi being accorded a Guard of Honour during the 79th Independence Day celebration at the Red Fort, in New Delhi, Friday, Aug. 15, 2025.\\n\\nPrime Minister Narendra Modi being accorded a Guard of Honour during the 79th Independence Day celebration at the Red Fort, in New Delhi, Friday, Aug. 15, 2025.\\n| Photo Credit: - [...] Prime Minister Narendra Modi on Friday (August 15, 2025) delivered a 103-minute Independence Day speech from the ramparts of the Red Fort, the longest by any prime minister in India’s history. Mr. Modi broke his 98-minute record from the 78th Independence Day last year. [...] His longest Independence Day speech before 2024 was 96 minutes in 2016, while his shortest speech was in 2017 when he spoke for 56 minutes. On India’s 79th Independence Day, Mr. Modi also broke Indira Gandhi’s record by delivering 12 consecutive speeches from Red Fort to stand next only to Jawaharlal Nehru, who delivered 17 Independence Day addresses in a row.\\n\\nPublished - August 15, 2025 11:18 am IST\\n\\n### Related Topics\\n\\nIndia\\n\\n### Top News Today\\n\\nReturn to frontpage\\nGoogle Play\\nApple Store\", \"score\": 0.86331123}, {\"title\": \"15 August: 5 countries that celebrate Independence Day ...\", \"url\": \"https://m.economictimes.com/magazines/panache/15-august-5-countries-that-celebrate-independence-day-alongside-india/articleshow/123256557.cms\", \"content\": \"India will celebrate its 79th Independence Day on August 15, 2025. Several other nations also observe this date for various reasons. Korea marks liberation from Japan. Bahrain declared independence from Britain. The Republic of the Congo celebrates its freedom from France. Liechtenstein observes its National Day. These nations share August 15 as a day of importance.\\n\\nCountries with Independence Day on 15 August\\n\\n### Korea (North and South): Liberation From Japan [...] She has acted with Sushant Singh Rajput. But has lived alone for last 40 years: ‘My son tells me…’:Image\\nBoss refuses WFH amid Mumbai rains. Employee's two-word reply shuts him down:Image\\nCMC Vellore doctor cracks the case of a 15-year-old who suddenly couldn’t walk. Blood tests were normal, MRI was clear. What happened?:Image\\nMission: Impossible - The Final Reckoning OTT release: When and where to watch Tom Cruise’s action thriller in India:Image [...] Can new shipping laws bury the ghost of British legacy?:Image\\n\\nCan new shipping laws bury the ghost of British legacy?\\n\\nAs big fat Indian wedding slims to budget, Manyavar loses lustre:Image\\n\\nAs big fat Indian wedding slims to budget, Manyavar loses lustre\\n\\nStock Radar: Bajaj Auto showing signs of reversal after falling over 30% from hi:Image\\n\\nStock Radar: Bajaj Auto showing signs of reversal after falling over 30% from highs; medium term should ‘buy the dip’\", \"score\": 0.75181264}, {\"title\": \"Independence Day 2025: Is it 78th or 79th I-Day this year? ...\", \"url\": \"https://www.hindustantimes.com/lifestyle/festivals/independence-day-2025-is-it-78th-79th-independence-day-this-year-know-theme-august-15-2025-significance-celebration-101755068612976.html\", \"content\": \"Independence Day 2025: India marks its Independence Day, or Swatantrata Diwas, every year on August 15. In 2025, it falls on a Friday. The day commemorates India's freedom from over 200 years of British colonial rule on August 15, 1947.\\n\\nSecurity personnel stand guard at the Red Fort before commemorations begin for India's Independence day, in New Delhi, India, Friday, Aug. 15, 2025.(AP)\\\") [...] Search\\nHindustan Times News\\nIndia Flag\\nIndia Flag\\nUS Flag\\nSign In\\nMy Account\\ncrown-icon\\n\\nSubscribe Now! Get features like\\n\\nad-free-icon\\npremium-icon-1\\nquick-read-icon-1\\nepaper-icon-1\\nsub-popup-img\\nCricket in L1\\nHT100 in L1\\n\\n# Independence Day 2025: Is it 78th or 79th I-Day this year? Check Independence Day 2025 theme, August 15 celebrations\\n\\n## Independence Day 2025: In 2025, will India is celebrating its 79th or 78th Independence Day on August 15 to mark freedom from British rule in 1947? [...] The official Independence Day programme begins with the presentation of a Guard of Honour by the Armed Forces and the Delhi Police to the Prime Minister. It is followed by the unfurling of the tricolour, accompanied by the National Anthem and the 21-gun salute. Helicopters of the Indian Air Force will shower flower petals over Red Fort. Prime Minister Narendra Modi also delivers his Independence Day address.\", \"score\": 0.74161834}, {\"title\": \"India's 79th Independence Day 2025 Highlights: PM Modi ...\", \"url\": \"https://indianexpress.com/article/india/79th-independence-day-2025-speech-flag-hoisting-quotes-live-updates-pm-narendra-modi-president-droupadi-murmu-speech-10188549/\", \"content\": \"India’s 79th Independence Day 2025 Highlights: Prime Minister Narendra Modi addressed the nation from Red Fort after hoisting the national flag on the occasion of Independence Day. During his speech, PM Modi spoke about India’s success during Operation Sindoor, farmers’ welfare and launched multiple schemes. One key announcement was the new GST reforms, set to kick in by Diwali and aimed at lowering the prices of daily-use commodities across the country. PM Modi also spoke about Mission [...] follow us on Facebook\\nfollow us on Twitter\\nfollow us on youtube\\nfollow us on Instagram\\nThe Indian Express logo\\n\\n# India’s 79th Independence Day 2025 Highlights: PM Modi announces new GST reforms by Diwali; to reduce tax on daily-use items\\n\\n## India's 79th Independence Day 2025 President Droupadi Murmu, PM Narendra Modi Speech Highlights: Prime Minister Narendra Modi addressed the nation from Red Fort, speaking about India's achievements in the past year. [...] the country was feeling over the Pahalgam terror attack in which terrorists from across the border carried out a gruesome massacre, killing people after asking their religion.\", \"score\": 0.6757865}, {\"title\": \"Independence Day 2025: Theme, Special Guest, Program ...\", \"url\": \"https://www.jagranjosh.com/general-knowledge/independence-day-2025-theme-special-guest-program-list-and-other-details-1820001468-1\", \"content\": \"## Comments\\n\\n#### All Comments (0)\\n\\ncomment\\n\\n## Join the conversation\\n\\nuser\\ncomment send\\nemoji\\n\\n# Independence Day 2025: Theme, Special Guest, Program List and Other Details\\n\\n## Independence Day 2025: Celebrate India’s 79th Independence Day 2025 on August 15 with patriotic pride and fervor. Learn about the history, theme, guest list, and full program of the Red Fort celebrations honoring India’s freedom fighters. [...] Independence Day Theme:India's 79th Independence Day will be observed on August 15th to honor the country's hard-fought independence from 200 years of British colonial control in 1947. The event is coming closer with each passing day. The significance of this day in Indian history is irreplaceable. The event honors the sacrifices made by the freedom warriors who cleared the path for India's independence and inspires a strong sense of pride and thankfulness among people across the nation. [...] Independence Day, which is celebrated nationwide with formal ceremonies and patriotic fervor, is acknowledged as a national holiday. The Prime Minister raises the national flag at Delhi's Red Fort to start the day, and then he gives a speech to the country.\\n\\n## Independence Day 2025 Theme\\n\\nOn Wednesday, the national government finally declared that the theme for the 79th Independence Day celebrations on August 15 would be \\\"Naya Bharat.\\\"\", \"score\": 0.6296157}]\n",
      "=================================\u001b[1m Tool Message \u001b[0m=================================\n",
      "Name: add\n",
      "\n",
      "4\n",
      "==================================\u001b[1m Ai Message \u001b[0m==================================\n",
      "\n",
      "### Latest News on Independence Day 2025:\n",
      "1. **PM Modi's Historic Speech**: Prime Minister Narendra Modi delivered a **103-minute** Independence Day speech from the Red Fort, marking the longest in India's history. Key announcements included new **GST reforms** aimed at reducing taxes on daily-use items by Diwali 2025 and initiatives for farmers' welfare.\n",
      "2. **79th Anniversary**: India celebrated its **79th Independence Day** on August 15, 2025, with flag-hoisting ceremonies, a 21-gun salute, and a floral tribute at the Red Fort. The theme for the year was **\"Naya Bharat\"** (New India), emphasizing progress and self-reliance.\n",
      "3. **Global Context**: Countries like **North and South Korea, Bahrain, the Republic of the Congo, and Liechtenstein** also observe significant events on August 15, such as Korea's liberation from Japan.\n",
      "\n",
      "---\n",
      "\n",
      "### Mathematical Calculation:\n",
      "**Problem**:  \n",
      "$ 2 + 2 \\times 6 \\div 3 - 5 $\n",
      "\n",
      "**Step-by-Step Solution**:  \n",
      "1. **Multiplication and Division** (left to right):  \n",
      "   $ 2 \\times 6 = 12 $  \n",
      "   $ 12 \\div 3 = 4 $  \n",
      "2. **Addition and Subtraction**:  \n",
      "   $ 2 + 4 - 5 = 1 $\n",
      "\n",
      "**Final Answer**: **1**\n"
     ]
    }
   ],
   "source": [
    "## specify the thread\n",
    "\n",
    "config={\n",
    "    \"configurable\":{\"thread_id\":\"1\"} ## specific to one user\n",
    "}\n",
    "messages=graph_with_memory.invoke({\"messages\":HumanMessage(content=f\"Provide me the latest news on Independence day today -  15'th Aug, 2025. Also after that give me the result of 2 plus 2 multiply by 6 divided by 3. subtract 5 from it\")},config=config) # type: ignore\n",
    "for message in messages['messages']:\n",
    "    message.pretty_print()\n"
   ]
  },
  {
   "cell_type": "code",
   "execution_count": 28,
   "id": "e7ecde3d",
   "metadata": {},
   "outputs": [],
   "source": [
    "from typing import Annotated,List\n",
    "from typing_extensions import Literal\n",
    "import operator\n",
    "from pydantic import BaseModel,Field\n",
    "from langchain_core.messages import HumanMessage,SystemMessage\n",
    "from typing_extensions import TypedDict\n",
    "\n",
    "class Section(BaseModel):\n",
    "    name:str=Field(description=\"Name for this section of the report\")\n",
    "    description:str=Field(description=\"Brief overview of the main topics and concepts of the section\")\n",
    "\n",
    "class Sections(BaseModel):\n",
    "    sections:List[Section]=Field(\n",
    "        description=\"Sections of the report\"\n",
    "    )\n",
    "\n",
    "planner=llm.with_structured_output(Sections)"
   ]
  },
  {
   "cell_type": "code",
   "execution_count": 29,
   "id": "71f6f56c",
   "metadata": {},
   "outputs": [
    {
     "name": "stderr",
     "output_type": "stream",
     "text": [
      "/var/folders/ly/spbnwbv12839h6wrzlnkytf00000gn/T/ipykernel_21297/339909892.py:3: LangGraphDeprecatedSinceV10: Importing Send from langgraph.constants is deprecated. Please use 'from langgraph.types import Send' instead. Deprecated in LangGraph V1.0 to be removed in V2.0.\n",
      "  from langgraph.constants import Send\n"
     ]
    }
   ],
   "source": [
    "### Creating Workers Dynamically in LangGraph\n",
    "\n",
    "from langgraph.constants import Send\n",
    "\n",
    "# Graph state\n",
    "class State(TypedDict):\n",
    "    topic:str\n",
    "    sections:list[Section]\n",
    "    completed_sections: Annotated[list,operator.add]\n",
    "    final_report:str\n",
    "\n",
    "class WorkerState(TypedDict):\n",
    "    section:Section\n",
    "    completed_sections: Annotated[list,operator.add]"
   ]
  },
  {
   "cell_type": "code",
   "execution_count": 30,
   "id": "d120eceb",
   "metadata": {},
   "outputs": [],
   "source": [
    "def orchestrator(state:State):\n",
    "    \"\"\"Orchestrator that generates a plan for the report\"\"\"\n",
    "\n",
    "    # Generate queries\n",
    "    report_sections=planner.invoke(\n",
    "        [\n",
    "            SystemMessage(content='Generate a plan for the report.'),\n",
    "            HumanMessage(content=f\"Here is the report topic: {state['topic']}\"),\n",
    "        ]\n",
    "    )\n",
    "\n",
    "    print('Report Sections:',report_sections)\n",
    "\n",
    "    return {\"sections\":report_sections.sections} #type:ignore"
   ]
  },
  {
   "cell_type": "code",
   "execution_count": 31,
   "id": "572254db",
   "metadata": {},
   "outputs": [
    {
     "name": "stderr",
     "output_type": "stream",
     "text": [
      "USER_AGENT environment variable not set, consider setting it to identify your requests.\n"
     ]
    }
   ],
   "source": [
    "from langchain_community.document_loaders import WebBaseLoader\n",
    "from langchain_community.vectorstores import FAISS\n",
    "from langchain_huggingface import HuggingFaceEmbeddings\n",
    "from langchain_text_splitters import RecursiveCharacterTextSplitter\n",
    "import os\n"
   ]
  },
  {
   "cell_type": "code",
   "execution_count": 32,
   "id": "254a42f1",
   "metadata": {},
   "outputs": [],
   "source": [
    "urls = [\n",
    "    \"https://langchain-ai.github.io/langgraph/\",\n",
    "    \"https://langchain-ai.github.io/langgraph/agents/agents/\",\n",
    "    \"https://langchain-ai.github.io/langgraph/tutorials/langgraph-platform/local-server/\"\n",
    "]\n",
    "\n",
    "docs=[WebBaseLoader(urls).load() for url in urls]"
   ]
  },
  {
   "cell_type": "code",
   "execution_count": 33,
   "id": "f68a0aac",
   "metadata": {},
   "outputs": [],
   "source": [
    "doc_list=[item for sublist in docs for item in sublist]\n",
    "\n",
    "text_splitter = RecursiveCharacterTextSplitter(chunk_size=1000,chunk_overlap=100)\n",
    "docs_splits=text_splitter.split_documents(doc_list)"
   ]
  },
  {
   "cell_type": "code",
   "execution_count": 34,
   "id": "c7b135c9",
   "metadata": {},
   "outputs": [
    {
     "name": "stderr",
     "output_type": "stream",
     "text": [
      "/Users/rishavchatterjee/Desktop/AgenticAi/.venv/lib/python3.13/site-packages/tqdm/auto.py:21: TqdmWarning: IProgress not found. Please update jupyter and ipywidgets. See https://ipywidgets.readthedocs.io/en/stable/user_install.html\n",
      "  from .autonotebook import tqdm as notebook_tqdm\n"
     ]
    }
   ],
   "source": [
    "vectorstore = FAISS.from_documents(\n",
    "    documents=docs_splits,\n",
    "    embedding=HuggingFaceEmbeddings()\n",
    ")\n",
    "\n",
    "retriever = vectorstore.as_retriever()"
   ]
  },
  {
   "cell_type": "code",
   "execution_count": 35,
   "id": "81536238",
   "metadata": {},
   "outputs": [
    {
     "data": {
      "text/plain": [
       "[Document(id='a1caf6f7-9240-4886-bba2-479aa90490fd', metadata={'source': 'https://langchain-ai.github.io/langgraph/', 'title': 'LangGraph', 'description': 'Build reliable, stateful AI systems, without giving up control', 'language': 'en'}, page_content='Durable execution: Build agents that persist through failures and can run for extended periods, automatically resuming from exactly where they left off.\\nHuman-in-the-loop: Seamlessly incorporate human oversight by inspecting and modifying agent state at any point during execution.\\nComprehensive memory: Create truly stateful agents with both short-term working memory for ongoing reasoning and long-term persistent memory across sessions.\\nDebugging with LangSmith: Gain deep visibility into complex agent behavior with visualization tools that trace execution paths, capture state transitions, and provide detailed runtime metrics.\\nProduction-ready deployment: Deploy sophisticated agent systems confidently with scalable infrastructure designed to handle the unique challenges of stateful, long-running workflows.'),\n",
       " Document(id='1416b94e-548e-494c-90ca-31a448cc1a6b', metadata={'source': 'https://langchain-ai.github.io/langgraph/', 'title': 'LangGraph', 'description': 'Build reliable, stateful AI systems, without giving up control', 'language': 'en'}, page_content='Durable execution: Build agents that persist through failures and can run for extended periods, automatically resuming from exactly where they left off.\\nHuman-in-the-loop: Seamlessly incorporate human oversight by inspecting and modifying agent state at any point during execution.\\nComprehensive memory: Create truly stateful agents with both short-term working memory for ongoing reasoning and long-term persistent memory across sessions.\\nDebugging with LangSmith: Gain deep visibility into complex agent behavior with visualization tools that trace execution paths, capture state transitions, and provide detailed runtime metrics.\\nProduction-ready deployment: Deploy sophisticated agent systems confidently with scalable infrastructure designed to handle the unique challenges of stateful, long-running workflows.'),\n",
       " Document(id='c64e990d-80c3-4557-905b-e6f8b15f348e', metadata={'source': 'https://langchain-ai.github.io/langgraph/', 'title': 'LangGraph', 'description': 'Build reliable, stateful AI systems, without giving up control', 'language': 'en'}, page_content='Durable execution: Build agents that persist through failures and can run for extended periods, automatically resuming from exactly where they left off.\\nHuman-in-the-loop: Seamlessly incorporate human oversight by inspecting and modifying agent state at any point during execution.\\nComprehensive memory: Create truly stateful agents with both short-term working memory for ongoing reasoning and long-term persistent memory across sessions.\\nDebugging with LangSmith: Gain deep visibility into complex agent behavior with visualization tools that trace execution paths, capture state transitions, and provide detailed runtime metrics.\\nProduction-ready deployment: Deploy sophisticated agent systems confidently with scalable infrastructure designed to handle the unique challenges of stateful, long-running workflows.'),\n",
       " Document(id='70c5306a-5895-4baf-a58e-e1ef1846fbf3', metadata={'source': 'https://langchain-ai.github.io/langgraph/agents/agents/', 'title': 'Start with a prebuilt agent', 'description': 'Build reliable, stateful AI systems, without giving up control', 'language': 'en'}, page_content='checkpointer allows the agent to store its state at every step in the tool calling loop. This enables short-term memory and human-in-the-loop capabilities.\\nPass configuration with thread_id to be able to resume the same conversation on future agent invocations.')]"
      ]
     },
     "execution_count": 35,
     "metadata": {},
     "output_type": "execute_result"
    }
   ],
   "source": [
    "retriever.invoke(\"What is backtracking?\")"
   ]
  },
  {
   "cell_type": "code",
   "execution_count": 36,
   "id": "c5949dfc",
   "metadata": {},
   "outputs": [],
   "source": [
    "## retriever --> Retriever tools\n",
    "\n",
    "from langchain.tools.retriever import create_retriever_tool\n",
    "\n",
    "retriever_tool = create_retriever_tool(\n",
    "    retriever,\n",
    "    \"retriever_vector_db_langgraph\",\n",
    "    \"serch and run information about langgraph\"\n",
    ")"
   ]
  },
  {
   "cell_type": "code",
   "execution_count": 37,
   "id": "a127747b",
   "metadata": {},
   "outputs": [],
   "source": [
    "urls2 = [\n",
    "    \"https://namastedev.com/blog/network-security-fundamentals/\",\n",
    "    \"https://namastedev.com/blog/organizing-tasks-with-trello-boards-2/\",\n",
    "    \"https://namastedev.com/blog/introduction-to-backtracking/\"\n",
    "]\n",
    "\n",
    "docs2=[WebBaseLoader(urls2).load() for url in urls2]"
   ]
  },
  {
   "cell_type": "code",
   "execution_count": 38,
   "id": "0fcf0dd1",
   "metadata": {},
   "outputs": [],
   "source": [
    "doc_list2=[item for sublist in docs2 for item in sublist]\n",
    "\n",
    "text_splitter2 = RecursiveCharacterTextSplitter(chunk_size=1000,chunk_overlap=100)\n",
    "docs_splits2=text_splitter2.split_documents(doc_list2)"
   ]
  },
  {
   "cell_type": "code",
   "execution_count": 39,
   "id": "3cff176b",
   "metadata": {},
   "outputs": [],
   "source": [
    "vectorstore2 = FAISS.from_documents(\n",
    "    documents=docs_splits2,\n",
    "    embedding=HuggingFaceEmbeddings()\n",
    ")\n",
    "\n",
    "retriever2 = vectorstore2.as_retriever()"
   ]
  },
  {
   "cell_type": "code",
   "execution_count": 40,
   "id": "068c3ff3",
   "metadata": {},
   "outputs": [],
   "source": [
    "from langchain.tools.retriever import create_retriever_tool\n",
    "\n",
    "retriever_tool_blogs = create_retriever_tool(\n",
    "    retriever2,\n",
    "    \"retriever_vector_db_blog\",\n",
    "    \"serch and run information about blogs on web dev\"\n",
    ")"
   ]
  },
  {
   "cell_type": "code",
   "execution_count": 41,
   "id": "389c5104",
   "metadata": {},
   "outputs": [],
   "source": [
    "tools = [retriever_tool,retriever_tool_blogs]"
   ]
  },
  {
   "cell_type": "code",
   "execution_count": null,
   "id": "a036abe4",
   "metadata": {},
   "outputs": [],
   "source": []
  }
 ],
 "metadata": {
  "kernelspec": {
   "display_name": "AgenticAi",
   "language": "python",
   "name": "python3"
  },
  "language_info": {
   "codemirror_mode": {
    "name": "ipython",
    "version": 3
   },
   "file_extension": ".py",
   "mimetype": "text/x-python",
   "name": "python",
   "nbconvert_exporter": "python",
   "pygments_lexer": "ipython3",
   "version": "3.13.5"
  }
 },
 "nbformat": 4,
 "nbformat_minor": 5
}
