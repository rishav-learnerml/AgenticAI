{
 "cells": [
  {
   "cell_type": "markdown",
   "id": "a95bdf70",
   "metadata": {},
   "source": [
    "## Implementing simple chatbot using Langgraph"
   ]
  },
  {
   "cell_type": "code",
   "execution_count": 48,
   "id": "532a24b7",
   "metadata": {},
   "outputs": [],
   "source": [
    "from typing_extensions import TypedDict\n",
    "from langgraph.graph import StateGraph,START,END\n",
    "\n",
    "## Reducers\n",
    "from typing import Annotated\n",
    "from langgraph.graph.message import add_messages"
   ]
  },
  {
   "cell_type": "code",
   "execution_count": 49,
   "id": "01d7d901",
   "metadata": {},
   "outputs": [],
   "source": [
    "class State(TypedDict):\n",
    "    messages:Annotated[list,add_messages]"
   ]
  },
  {
   "cell_type": "code",
   "execution_count": 50,
   "id": "27edfe1f",
   "metadata": {},
   "outputs": [],
   "source": [
    "import os\n",
    "from dotenv import load_dotenv\n",
    "load_dotenv()\n",
    "\n",
    "os.environ['GROQ_API_KEY']=os.getenv('GROQ_API_KEY') #type: ignore"
   ]
  },
  {
   "cell_type": "code",
   "execution_count": 51,
   "id": "52a7b3ce",
   "metadata": {},
   "outputs": [],
   "source": [
    "from langchain_groq import ChatGroq\n",
    "\n",
    "llm=ChatGroq(model='deepseek-r1-distill-llama-70b')"
   ]
  },
  {
   "cell_type": "code",
   "execution_count": 52,
   "id": "cceb8f52",
   "metadata": {},
   "outputs": [
    {
     "name": "stdout",
     "output_type": "stream",
     "text": [
      "<think>\n",
      "\n",
      "</think>\n",
      "\n",
      "Hello! How can I assist you today? 😊\n"
     ]
    }
   ],
   "source": [
    "response=llm.invoke(\"Hello\")\n",
    "print(response.content)"
   ]
  },
  {
   "cell_type": "markdown",
   "id": "6e24f66b",
   "metadata": {},
   "source": [
    "### Start with creating nodes"
   ]
  },
  {
   "cell_type": "code",
   "execution_count": 53,
   "id": "a55d60c2",
   "metadata": {},
   "outputs": [],
   "source": [
    "def superbot(state:State):\n",
    "    return {\"messages\":[llm.invoke(state['messages'])]}"
   ]
  },
  {
   "cell_type": "code",
   "execution_count": 54,
   "id": "69067519",
   "metadata": {},
   "outputs": [
    {
     "data": {
      "image/png": "[encoded data removed]",
      "text/plain": [
       "<IPython.core.display.Image object>"
      ]
     },
     "metadata": {},
     "output_type": "display_data"
    }
   ],
   "source": [
    "graph=StateGraph(State)\n",
    "\n",
    "#Nodes\n",
    "\n",
    "graph.add_node(\"SuperBot\",superbot)\n",
    "\n",
    "# Edges\n",
    "\n",
    "graph.add_edge(START,\"SuperBot\")\n",
    "graph.add_edge(\"SuperBot\",END)\n",
    "\n",
    "graph_builder=graph.compile()\n",
    "\n",
    "## Display\n",
    "\n",
    "from IPython.display import Image,display\n",
    "display(Image(graph_builder.get_graph().draw_mermaid_png()))"
   ]
  },
  {
   "cell_type": "code",
   "execution_count": 55,
   "id": "cad975d0",
   "metadata": {},
   "outputs": [
    {
     "data": {
      "text/plain": [
       "{'messages': [HumanMessage(content='Hi, my name is Rishav and I like cricket', additional_kwargs={}, response_metadata={}, id='370df27e-3145-487a-a9c7-3daf01df2a4b'),\n",
       "  AIMessage(content=\"<think>\\nAlright, Rishav likes cricket. I should acknowledge his interest and ask a follow-up question to keep the conversation going.\\n\\nMaybe I can ask him which format he prefers or who his favorite team or player is. That should help me understand his interests better and provide a more tailored response.\\n</think>\\n\\nHi Rishav! It's nice to meet you. Cricket is a fantastic sport—so many exciting moments and great players. Do you have a favorite team or player?\", additional_kwargs={}, response_metadata={'token_usage': {'completion_tokens': 98, 'prompt_tokens': 15, 'total_tokens': 113, 'completion_time': 0.45671421, 'prompt_time': 0.010629368, 'queue_time': 0.047573872, 'total_time': 0.467343578}, 'model_name': 'deepseek-r1-distill-llama-70b', 'system_fingerprint': 'fp_76307ac09b', 'service_tier': 'on_demand', 'finish_reason': 'stop', 'logprobs': None}, id='run--bf4e1c80-ef33-4257-8583-b8169fc1c0d8-0', usage_metadata={'input_tokens': 15, 'output_tokens': 98, 'total_tokens': 113})]}"
      ]
     },
     "execution_count": 55,
     "metadata": {},
     "output_type": "execute_result"
    }
   ],
   "source": [
    "graph_builder.invoke({'messages':'Hi, my name is Rishav and I like cricket'}) # type: ignore"
   ]
  },
  {
   "cell_type": "markdown",
   "id": "7d668f18",
   "metadata": {},
   "source": [
    "## Streaming the responses"
   ]
  },
  {
   "cell_type": "code",
   "execution_count": 56,
   "id": "bf313a3f",
   "metadata": {},
   "outputs": [
    {
     "name": "stdout",
     "output_type": "stream",
     "text": [
      "{'messages': [HumanMessage(content='hi i am rishav', additional_kwargs={}, response_metadata={}, id='fd54ca9c-ab9f-4cf9-bdbc-1ad49fbef4d8')]}\n",
      "{'messages': [HumanMessage(content='hi i am rishav', additional_kwargs={}, response_metadata={}, id='fd54ca9c-ab9f-4cf9-bdbc-1ad49fbef4d8'), AIMessage(content='<think>\\n\\n</think>\\n\\nHi Rishav! How can I assist you today? 😊', additional_kwargs={}, response_metadata={'token_usage': {'completion_tokens': 19, 'prompt_tokens': 9, 'total_tokens': 28, 'completion_time': 0.089963708, 'prompt_time': 0.0100044, 'queue_time': 0.04759173, 'total_time': 0.099968108}, 'model_name': 'deepseek-r1-distill-llama-70b', 'system_fingerprint': 'fp_76307ac09b', 'service_tier': 'on_demand', 'finish_reason': 'stop', 'logprobs': None}, id='run--3e657525-3337-4d8d-8487-2fb747923c36-0', usage_metadata={'input_tokens': 9, 'output_tokens': 19, 'total_tokens': 28})]}\n"
     ]
    }
   ],
   "source": [
    "for event in graph_builder.stream({'messages':'hi i am rishav'},stream_mode='values'): # type: ignore\n",
    "    print(event)"
   ]
  },
  {
   "cell_type": "markdown",
   "id": "871a82b1",
   "metadata": {},
   "source": [
    "## Pydantic Data Validations"
   ]
  },
  {
   "cell_type": "code",
   "execution_count": 57,
   "id": "3879f2bc",
   "metadata": {},
   "outputs": [],
   "source": [
    "from langgraph.graph import StateGraph,START,END\n",
    "from pydantic import BaseModel"
   ]
  },
  {
   "cell_type": "code",
   "execution_count": 58,
   "id": "373e3897",
   "metadata": {},
   "outputs": [],
   "source": [
    "class State(BaseModel):\n",
    "    name:str"
   ]
  },
  {
   "cell_type": "code",
   "execution_count": 59,
   "id": "6a3322a3",
   "metadata": {},
   "outputs": [],
   "source": [
    "#node function\n",
    "def example_node(state:State):\n",
    "    return {'name':'Hello '+state.name}"
   ]
  },
  {
   "cell_type": "code",
   "execution_count": 60,
   "id": "8f7f4d34",
   "metadata": {},
   "outputs": [],
   "source": [
    "## Stategraph\n",
    "\n",
    "builder=StateGraph(State)\n",
    "builder.add_node('example',example_node)\n",
    "\n",
    "builder.add_edge(START,\"example\")\n",
    "builder.add_edge('example',END)\n",
    "\n",
    "graph=builder.compile()"
   ]
  },
  {
   "cell_type": "code",
   "execution_count": 61,
   "id": "ba50d95a",
   "metadata": {},
   "outputs": [
    {
     "data": {
      "text/plain": [
       "{'name': 'Hello Rishav'}"
      ]
     },
     "execution_count": 61,
     "metadata": {},
     "output_type": "execute_result"
    }
   ],
   "source": [
    "graph.invoke({\"name\":\"Rishav\"}) # type: ignore"
   ]
  },
  {
   "cell_type": "markdown",
   "id": "8e70eec1",
   "metadata": {},
   "source": [
    "## Tools--Integrated with LLM models to interact with external systems"
   ]
  },
  {
   "cell_type": "code",
   "execution_count": 62,
   "id": "7b45651c",
   "metadata": {},
   "outputs": [],
   "source": [
    "## Tool --> Internal/external functions / database / apis --> External Data / Third party agent\n",
    "\n",
    "## sunction name + docstring (what the tool/function does)\n",
    "\n",
    "## Tool\n",
    "def add(a:int, b:int)-> int:\n",
    "    \"\"\"\n",
    "    Add a and b\n",
    "\n",
    "    Args:\n",
    "        a (int): first int\n",
    "        b (int): second int\n",
    "\n",
    "    Returns:\n",
    "        int\n",
    "    \"\"\"\n",
    "    return a+b"
   ]
  },
  {
   "cell_type": "code",
   "execution_count": 63,
   "id": "c8ae797f",
   "metadata": {},
   "outputs": [
    {
     "name": "stdout",
     "output_type": "stream",
     "text": [
      "[{'name': 'add', 'args': {'a': 2, 'b': 2}, 'id': '849d3wf2p', 'type': 'tool_call'}]\n"
     ]
    }
   ],
   "source": [
    "## Binding tool with llm\n",
    "from langchain_core.messages import HumanMessage,AIMessage\n",
    "\n",
    "llm_with_tools=llm.bind_tools([add])\n",
    "\n",
    "response=llm_with_tools.invoke([HumanMessage(content=f\"Hey what is 2 plus 2\",name=\"Rishav\")])\n",
    "\n",
    "print(response.tool_calls) # type: ignore"
   ]
  },
  {
   "cell_type": "code",
   "execution_count": 64,
   "id": "49609bab",
   "metadata": {},
   "outputs": [],
   "source": [
    "### Using messages as states\n",
    "\n",
    "from typing_extensions import TypedDict\n",
    "from langchain_core.messages import AnyMessage\n",
    "from langgraph.graph.message import add_messages\n",
    "from typing import Annotated\n",
    "\n",
    "class State(TypedDict):\n",
    "    message:Annotated[list[AnyMessage],add_messages]\n"
   ]
  },
  {
   "cell_type": "markdown",
   "id": "a1709fda",
   "metadata": {},
   "source": [
    "## Reducers with add_messages"
   ]
  },
  {
   "cell_type": "code",
   "execution_count": 65,
   "id": "5bc6552d",
   "metadata": {},
   "outputs": [],
   "source": [
    "initial_messages = [AIMessage(content=f\"Please tell me how can I help\",name=\"LLMModel\")]\n",
    "initial_messages.append(HumanMessage(content=f\"I want to learn coding\",name=\"Rishav\"))"
   ]
  },
  {
   "cell_type": "code",
   "execution_count": 66,
   "id": "446339af",
   "metadata": {},
   "outputs": [
    {
     "data": {
      "text/plain": [
       "[AIMessage(content='Please tell me how can I help', additional_kwargs={}, response_metadata={}, name='LLMModel', id='c031fbb9-89e2-4b4f-ad47-5ea101ff4e8d'),\n",
       " HumanMessage(content='I want to learn coding', additional_kwargs={}, response_metadata={}, name='Rishav', id='e63e6127-912f-4b41-b2ba-9c32f9043d4e'),\n",
       " AIMessage(content='Which programing language you want to learn?', additional_kwargs={}, response_metadata={}, name='LLMModel', id='2d1b042d-760a-4e17-be09-558b1e61d926')]"
      ]
     },
     "execution_count": 66,
     "metadata": {},
     "output_type": "execute_result"
    }
   ],
   "source": [
    "## Reducer add_messages appends in place of overring --> vvi\n",
    "\n",
    "ai_message=AIMessage(content=f\"Which programing language you want to learn?\",name='LLMModel')\n",
    "add_messages(initial_messages,ai_message)"
   ]
  },
  {
   "cell_type": "code",
   "execution_count": 67,
   "id": "a42cdcb2",
   "metadata": {},
   "outputs": [],
   "source": [
    "## chatbot node functionality\n",
    "\n",
    "def llm_tool(state:State):\n",
    "    return {\"messages\":[llm_with_tools.invoke(state[\"message\"])]}\n",
    "\n"
   ]
  },
  {
   "cell_type": "code",
   "execution_count": 68,
   "id": "9d85c003",
   "metadata": {},
   "outputs": [
    {
     "data": {
      "image/png": "[encoded data removed]",
      "text/plain": [
       "<IPython.core.display.Image object>"
      ]
     },
     "metadata": {},
     "output_type": "display_data"
    }
   ],
   "source": [
    "from IPython.display import Image,display\n",
    "from langgraph.graph import StateGraph, START, END\n",
    "\n",
    "builder=StateGraph(State)\n",
    "\n",
    "builder.add_node(\"llm_tool\",llm_tool)\n",
    "\n",
    "builder.add_edge(START,'llm_tool')\n",
    "builder.add_edge('llm_tool',END)\n",
    "\n",
    "graph=builder.compile()\n",
    "display(Image(graph.get_graph().draw_mermaid_png()))"
   ]
  },
  {
   "cell_type": "code",
   "execution_count": 71,
   "id": "da6a8162",
   "metadata": {},
   "outputs": [
    {
     "name": "stdout",
     "output_type": "stream",
     "text": [
      "================================\u001b[1m Human Message \u001b[0m=================================\n",
      "\n",
      "What is 2 plus 2\n"
     ]
    }
   ],
   "source": [
    "## invocation\n",
    "\n",
    "messages=graph.invoke({\"message\":\"What is 2 plus 2\"})\n",
    "for message in messages['message']:\n",
    "    message.pretty_print()"
   ]
  },
  {
   "cell_type": "code",
   "execution_count": 72,
   "id": "9225d152",
   "metadata": {},
   "outputs": [
    {
     "data": {
      "image/png": "[encoded data removed]",
      "text/plain": [
       "<IPython.core.display.Image object>"
      ]
     },
     "metadata": {},
     "output_type": "display_data"
    }
   ],
   "source": [
    "from langgraph.prebuilt import ToolNode\n",
    "from langgraph.prebuilt import tools_condition\n",
    "\n",
    "builder=StateGraph(State)\n",
    "tools=[add]\n",
    "\n",
    "## Add nodes\n",
    "\n",
    "builder.add_node('llm_tool',llm_tool)\n",
    "builder.add_node('tools',ToolNode(tools))\n",
    "\n",
    "builder.add_edge(START,'llm_tool')\n",
    "builder.add_conditional_edges('llm_tool',tools_condition)\n",
    "\n",
    "builder.add_edge('tools',END)\n",
    "\n",
    "graph_builder=builder.compile()\n",
    "display(Image(graph_builder.get_graph().draw_mermaid_png()))"
   ]
  }
 ],
 "metadata": {
  "kernelspec": {
   "display_name": "AgenticAi",
   "language": "python",
   "name": "python3"
  },
  "language_info": {
   "codemirror_mode": {
    "name": "ipython",
    "version": 3
   },
   "file_extension": ".py",
   "mimetype": "text/x-python",
   "name": "python",
   "nbconvert_exporter": "python",
   "pygments_lexer": "ipython3",
   "version": "3.13.5"
  }
 },
 "nbformat": 4,
 "nbformat_minor": 5
}
